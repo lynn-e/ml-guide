{
  "nbformat": 4,
  "nbformat_minor": 0,
  "metadata": {
    "colab": {
      "name": "6장 차원 축소",
      "provenance": [],
      "toc_visible": true,
      "authorship_tag": "ABX9TyOlT1WZcxtYjJ16h3iYykcm",
      "include_colab_link": true
    },
    "kernelspec": {
      "name": "python3",
      "display_name": "Python 3"
    }
  },
  "cells": [
    {
      "cell_type": "markdown",
      "metadata": {
        "id": "view-in-github",
        "colab_type": "text"
      },
      "source": [
        "<a href=\"https://colab.research.google.com/github/lynn-e/ml-guide/blob/master/ch06/6%EC%9E%A5_%EC%B0%A8%EC%9B%90_%EC%B6%95%EC%86%8C.ipynb\" target=\"_parent\"><img src=\"https://colab.research.google.com/assets/colab-badge.svg\" alt=\"Open In Colab\"/></a>"
      ]
    },
    {
      "cell_type": "markdown",
      "metadata": {
        "id": "2k634jZXmMiB",
        "colab_type": "text"
      },
      "source": [
        "# 02 PCA (Principle Component Analysis)\n"
      ]
    },
    {
      "cell_type": "code",
      "metadata": {
        "id": "hu_ZfVgFj-5U",
        "colab_type": "code",
        "colab": {
          "base_uri": "https://localhost:8080/",
          "height": 142
        },
        "outputId": "ab78eb9a-c2bf-4cad-954b-9eea8cb46f70"
      },
      "source": [
        "from sklearn.datasets import load_iris\n",
        "import pandas as pd\n",
        "import matplotlib.pyplot as plt\n",
        "%matplotlib inline\n",
        "\n",
        "iris = load_iris()\n",
        "# 넘파이 데이터 세트를 판다스 DataFrame으로 변환\n",
        "columns = ['sepal_length', 'sepal_width', 'petal_length', 'petal_width']\n",
        "irisDF = pd.DataFrame(iris.data, columns=columns)\n",
        "irisDF['target'] = iris.target\n",
        "irisDF.head(3)"
      ],
      "execution_count": null,
      "outputs": [
        {
          "output_type": "execute_result",
          "data": {
            "text/html": [
              "<div>\n",
              "<style scoped>\n",
              "    .dataframe tbody tr th:only-of-type {\n",
              "        vertical-align: middle;\n",
              "    }\n",
              "\n",
              "    .dataframe tbody tr th {\n",
              "        vertical-align: top;\n",
              "    }\n",
              "\n",
              "    .dataframe thead th {\n",
              "        text-align: right;\n",
              "    }\n",
              "</style>\n",
              "<table border=\"1\" class=\"dataframe\">\n",
              "  <thead>\n",
              "    <tr style=\"text-align: right;\">\n",
              "      <th></th>\n",
              "      <th>sepal_length</th>\n",
              "      <th>sepal_width</th>\n",
              "      <th>petal_length</th>\n",
              "      <th>petal_width</th>\n",
              "      <th>target</th>\n",
              "    </tr>\n",
              "  </thead>\n",
              "  <tbody>\n",
              "    <tr>\n",
              "      <th>0</th>\n",
              "      <td>5.1</td>\n",
              "      <td>3.5</td>\n",
              "      <td>1.4</td>\n",
              "      <td>0.2</td>\n",
              "      <td>0</td>\n",
              "    </tr>\n",
              "    <tr>\n",
              "      <th>1</th>\n",
              "      <td>4.9</td>\n",
              "      <td>3.0</td>\n",
              "      <td>1.4</td>\n",
              "      <td>0.2</td>\n",
              "      <td>0</td>\n",
              "    </tr>\n",
              "    <tr>\n",
              "      <th>2</th>\n",
              "      <td>4.7</td>\n",
              "      <td>3.2</td>\n",
              "      <td>1.3</td>\n",
              "      <td>0.2</td>\n",
              "      <td>0</td>\n",
              "    </tr>\n",
              "  </tbody>\n",
              "</table>\n",
              "</div>"
            ],
            "text/plain": [
              "   sepal_length  sepal_width  petal_length  petal_width  target\n",
              "0           5.1          3.5           1.4          0.2       0\n",
              "1           4.9          3.0           1.4          0.2       0\n",
              "2           4.7          3.2           1.3          0.2       0"
            ]
          },
          "metadata": {
            "tags": []
          },
          "execution_count": 1
        }
      ]
    },
    {
      "cell_type": "code",
      "metadata": {
        "id": "AFCrILN6kZHW",
        "colab_type": "code",
        "colab": {
          "base_uri": "https://localhost:8080/",
          "height": 282
        },
        "outputId": "ee67cbe3-b2ab-4deb-a5c3-cb5179ee0ee3"
      },
      "source": [
        "#setosa는 세모, versicolor는 네모, virginica는 동그라미로 표현 \n",
        "markers=['^', 's', 'o']\n",
        "\n",
        "#setosa의 값은 0, versicolor는 1, virginica는 2. 각 target별로 다른 모양으로 산점도로 표시\n",
        "for i, marker in enumerate(markers):\n",
        "  x_axis_data = irisDF[irisDF['target']==i]['sepal_length']\n",
        "  y_axis_data = irisDF[irisDF['target']==i]['sepal_width']\n",
        "  plt.scatter(x_axis_data, y_axis_data, marker=marker, label=iris.target_names[i])\n",
        "\n",
        "plt.legend()\n",
        "plt.xlabel('sepal length')\n",
        "plt.ylabel('sepal width')\n",
        "plt.show()"
      ],
      "execution_count": null,
      "outputs": [
        {
          "output_type": "display_data",
          "data": {
            "image/png": "[encoded data removed]",
            "text/plain": [
              "<Figure size 432x288 with 1 Axes>"
            ]
          },
          "metadata": {
            "tags": [],
            "needs_background": "light"
          }
        }
      ]
    },
    {
      "cell_type": "code",
      "metadata": {
        "id": "5Rjt34cwlK32",
        "colab_type": "code",
        "colab": {}
      },
      "source": [
        "from sklearn.preprocessing import StandardScaler\n",
        "iris_scaled = StandardScaler().fit_transform(irisDF)"
      ],
      "execution_count": null,
      "outputs": []
    },
    {
      "cell_type": "code",
      "metadata": {
        "id": "0m_k27bXljts",
        "colab_type": "code",
        "colab": {
          "base_uri": "https://localhost:8080/",
          "height": 34
        },
        "outputId": "d880a164-7ec9-4d36-abc7-73439fa4b7e0"
      },
      "source": [
        "from sklearn.decomposition import PCA\n",
        "\n",
        "pca = PCA(n_components=2)\n",
        "\n",
        "#fit()과 transform()을 호출해 PCA 변환 데이터 반환\n",
        "pca.fit(iris_scaled)\n",
        "iris_pca = pca.transform(iris_scaled)\n",
        "print(iris_pca.shape)"
      ],
      "execution_count": null,
      "outputs": [
        {
          "output_type": "stream",
          "text": [
            "(150, 2)\n"
          ],
          "name": "stdout"
        }
      ]
    },
    {
      "cell_type": "code",
      "metadata": {
        "id": "ptijyLqmluNk",
        "colab_type": "code",
        "colab": {
          "base_uri": "https://localhost:8080/",
          "height": 142
        },
        "outputId": "5473b678-4b27-4416-9783-8aa2cd3edb89"
      },
      "source": [
        "# PCA 변환된 데이터의 컬럼명을 각각 pca_component_1, pca_component_2로 명명\n",
        "pca_columns=['pca_component_1', 'pca_component_2']\n",
        "irisDF_pca = pd.DataFrame(iris_pca, columns=pca_columns)\n",
        "irisDF_pca['target'] = iris.target\n",
        "irisDF_pca.head(3)"
      ],
      "execution_count": null,
      "outputs": [
        {
          "output_type": "execute_result",
          "data": {
            "text/html": [
              "<div>\n",
              "<style scoped>\n",
              "    .dataframe tbody tr th:only-of-type {\n",
              "        vertical-align: middle;\n",
              "    }\n",
              "\n",
              "    .dataframe tbody tr th {\n",
              "        vertical-align: top;\n",
              "    }\n",
              "\n",
              "    .dataframe thead th {\n",
              "        text-align: right;\n",
              "    }\n",
              "</style>\n",
              "<table border=\"1\" class=\"dataframe\">\n",
              "  <thead>\n",
              "    <tr style=\"text-align: right;\">\n",
              "      <th></th>\n",
              "      <th>pca_component_1</th>\n",
              "      <th>pca_component_2</th>\n",
              "      <th>target</th>\n",
              "    </tr>\n",
              "  </thead>\n",
              "  <tbody>\n",
              "    <tr>\n",
              "      <th>0</th>\n",
              "      <td>-2.576120</td>\n",
              "      <td>0.474499</td>\n",
              "      <td>0</td>\n",
              "    </tr>\n",
              "    <tr>\n",
              "      <th>1</th>\n",
              "      <td>-2.415322</td>\n",
              "      <td>-0.678092</td>\n",
              "      <td>0</td>\n",
              "    </tr>\n",
              "    <tr>\n",
              "      <th>2</th>\n",
              "      <td>-2.659333</td>\n",
              "      <td>-0.348282</td>\n",
              "      <td>0</td>\n",
              "    </tr>\n",
              "  </tbody>\n",
              "</table>\n",
              "</div>"
            ],
            "text/plain": [
              "   pca_component_1  pca_component_2  target\n",
              "0        -2.576120         0.474499       0\n",
              "1        -2.415322        -0.678092       0\n",
              "2        -2.659333        -0.348282       0"
            ]
          },
          "metadata": {
            "tags": []
          },
          "execution_count": 9
        }
      ]
    },
    {
      "cell_type": "code",
      "metadata": {
        "id": "Uamf72zjmBUO",
        "colab_type": "code",
        "colab": {
          "base_uri": "https://localhost:8080/",
          "height": 280
        },
        "outputId": "f3187ecd-8b8a-41e3-bb51-2ec6176ed6c6"
      },
      "source": [
        "#setosa의 값은 0, versicolor는 1, virginica는 2. 각 target별로 다른 모양으로 산점도로 표시\n",
        "for i, marker in enumerate(markers):\n",
        "  x_axis_data = irisDF_pca[irisDF_pca['target']==i]['pca_component_1']\n",
        "  y_axis_data = irisDF_pca[irisDF_pca['target']==i]['pca_component_2']\n",
        "  plt.scatter(x_axis_data, y_axis_data, marker=marker, label=iris.target_names[i])\n",
        "\n",
        "plt.legend()\n",
        "plt.xlabel('pca_component_1')\n",
        "plt.ylabel('pca_component_2')\n",
        "plt.show()"
      ],
      "execution_count": null,
      "outputs": [
        {
          "output_type": "display_data",
          "data": {
            "image/png": "[encoded data removed]",
            "text/plain": [
              "<Figure size 432x288 with 1 Axes>"
            ]
          },
          "metadata": {
            "tags": [],
            "needs_background": "light"
          }
        }
      ]
    },
    {
      "cell_type": "code",
      "metadata": {
        "id": "NhFy8STtmVuz",
        "colab_type": "code",
        "colab": {
          "base_uri": "https://localhost:8080/",
          "height": 34
        },
        "outputId": "a59cdd2e-9dfc-43f6-8e98-15fe61caeee3"
      },
      "source": [
        "print(pca.explained_variance_ratio_)"
      ],
      "execution_count": null,
      "outputs": [
        {
          "output_type": "stream",
          "text": [
            "[0.76740358 0.18282727]\n"
          ],
          "name": "stdout"
        }
      ]
    },
    {
      "cell_type": "code",
      "metadata": {
        "id": "kwmrxwkVmmlb",
        "colab_type": "code",
        "colab": {
          "base_uri": "https://localhost:8080/",
          "height": 34
        },
        "outputId": "955712df-4042-4753-c4f0-f0785ef32b8d"
      },
      "source": [
        "from sklearn.ensemble import RandomForestClassifier\n",
        "from sklearn.model_selection import cross_val_score\n",
        "\n",
        "rcf = RandomForestClassifier(random_state=156)\n",
        "scores = cross_val_score(rcf, iris.data, iris.target, scoring='accuracy', cv=3)\n",
        "print(scores)"
      ],
      "execution_count": null,
      "outputs": [
        {
          "output_type": "stream",
          "text": [
            "[0.98 0.94 0.96]\n"
          ],
          "name": "stdout"
        }
      ]
    },
    {
      "cell_type": "code",
      "metadata": {
        "id": "-J3yyPCcm5RK",
        "colab_type": "code",
        "colab": {
          "base_uri": "https://localhost:8080/",
          "height": 34
        },
        "outputId": "37051052-b1ff-4ba0-facc-e77c2797713b"
      },
      "source": [
        "pca_X = irisDF_pca[['pca_component_1','pca_component_2']]\n",
        "scores_pca = cross_val_score(rcf, pca_X, iris.target, scoring='accuracy', cv=3)\n",
        "print(scores_pca)"
      ],
      "execution_count": null,
      "outputs": [
        {
          "output_type": "stream",
          "text": [
            "[0.98 0.98 1.  ]\n"
          ],
          "name": "stdout"
        }
      ]
    },
    {
      "cell_type": "code",
      "metadata": {
        "id": "Bh99cp8_nMnq",
        "colab_type": "code",
        "colab": {}
      },
      "source": [
        ""
      ],
      "execution_count": null,
      "outputs": []
    },
    {
      "cell_type": "code",
      "metadata": {
        "id": "iAqShGVR57k0",
        "colab_type": "code",
        "colab": {}
      },
      "source": [
        ""
      ],
      "execution_count": null,
      "outputs": []
    },
    {
      "cell_type": "code",
      "metadata": {
        "id": "-WXx3DZq6uHr",
        "colab_type": "code",
        "colab": {}
      },
      "source": [
        ""
      ],
      "execution_count": null,
      "outputs": []
    },
    {
      "cell_type": "markdown",
      "metadata": {
        "id": "hjv5yZsg_WAA",
        "colab_type": "text"
      },
      "source": [
        "# 03 LDA (Linear Discriminant Analysis)"
      ]
    },
    {
      "cell_type": "code",
      "metadata": {
        "id": "anTD7sj-_bli",
        "colab_type": "code",
        "colab": {}
      },
      "source": [
        "from sklearn.discriminant_analysis import LinearDiscriminantAnalysis\n",
        "from sklearn.preprocessing import StandardScaler\n",
        "from sklearn.datasets import load_iris\n",
        "\n",
        "iris = load_iris()\n",
        "iris_scaled = StandardScaler().fit_transform(iris.data)"
      ],
      "execution_count": null,
      "outputs": []
    },
    {
      "cell_type": "code",
      "metadata": {
        "id": "It0T9htO_ser",
        "colab_type": "code",
        "colab": {
          "base_uri": "https://localhost:8080/",
          "height": 34
        },
        "outputId": "080a3919-f901-4f56-dfd3-32103a2a4af3"
      },
      "source": [
        "lda = LinearDiscriminantAnalysis(n_components=2)\n",
        "lda.fit(iris_scaled, iris.target)\n",
        "iris_lda = lda.transform(iris_scaled)\n",
        "print(iris_lda.shape)"
      ],
      "execution_count": null,
      "outputs": [
        {
          "output_type": "stream",
          "text": [
            "(150, 2)\n"
          ],
          "name": "stdout"
        }
      ]
    },
    {
      "cell_type": "code",
      "metadata": {
        "id": "Swg1uKTy_55S",
        "colab_type": "code",
        "colab": {
          "base_uri": "https://localhost:8080/",
          "height": 284
        },
        "outputId": "e38fb90f-af8a-4c45-83ce-c9dd04acb7f5"
      },
      "source": [
        "import pandas as pd\n",
        "import matplotlib.pyplot as plt\n",
        "%matplotlib inline\n",
        "\n",
        "lda_columns=['lda_component_1', 'lda_component_2']\n",
        "irisDF_lda=pd.DataFrame(iris_lda, columns=lda_columns)\n",
        "irisDF_lda['target']=iris.target\n",
        "\n",
        "#setosa는 세모, versicolor는 네모, virginica는 동그라미로 표현 \n",
        "markers=['^', 's', 'o']\n",
        "\n",
        "#setosa의 값은 0, versicolor는 1, virginica는 2. 각 target별로 다른 모양으로 산점도로 표시\n",
        "for i, marker in enumerate(markers):\n",
        "  x_axis_data = irisDF_lda[irisDF_lda['target']==i]['lda_component_1']\n",
        "  y_axis_data = irisDF_lda[irisDF_lda['target']==i]['lda_component_2']\n",
        "  plt.scatter(x_axis_data, y_axis_data, marker=marker, label=iris.target_names[i])\n",
        "\n",
        "plt.legend(loc='upper right')\n",
        "plt.xlabel('lda_component_1')\n",
        "plt.ylabel('lda_component_2')\n",
        "plt.show()"
      ],
      "execution_count": null,
      "outputs": [
        {
          "output_type": "display_data",
          "data": {
            "image/png": "[encoded data removed]",
            "text/plain": [
              "<Figure size 432x288 with 1 Axes>"
            ]
          },
          "metadata": {
            "tags": [],
            "needs_background": "light"
          }
        }
      ]
    },
    {
      "cell_type": "code",
      "metadata": {
        "id": "EoOQdQ-BAlC9",
        "colab_type": "code",
        "colab": {}
      },
      "source": [
        ""
      ],
      "execution_count": null,
      "outputs": []
    },
    {
      "cell_type": "markdown",
      "metadata": {
        "id": "ikqRbk2DBOFa",
        "colab_type": "text"
      },
      "source": [
        "# 04 SVD (Singular Value Decomposition)"
      ]
    },
    {
      "cell_type": "code",
      "metadata": {
        "id": "kv3QClkoBROo",
        "colab_type": "code",
        "colab": {
          "base_uri": "https://localhost:8080/",
          "height": 85
        },
        "outputId": "e70c2911-a828-4e33-bcf7-5eb6a224fe33"
      },
      "source": [
        "# 넘파이의 svd 모듈 임포트\n",
        "import numpy as np\n",
        "from numpy.linalg import svd\n",
        "\n",
        "# 4X4 랜덤 행렬 a 생성\n",
        "np.random.seed(121)\n",
        "a = np.random.randn(4, 4)\n",
        "print(np.round(a, 3))"
      ],
      "execution_count": null,
      "outputs": [
        {
          "output_type": "stream",
          "text": [
            "[[-0.212 -0.285 -0.574 -0.44 ]\n",
            " [-0.33   1.184  1.615  0.367]\n",
            " [-0.014  0.63   1.71  -1.327]\n",
            " [ 0.402 -0.191  1.404 -1.969]]\n"
          ],
          "name": "stdout"
        }
      ]
    },
    {
      "cell_type": "code",
      "metadata": {
        "id": "s9J1eonaCaII",
        "colab_type": "code",
        "colab": {
          "base_uri": "https://localhost:8080/",
          "height": 238
        },
        "outputId": "b87c8981-ef29-4581-9b27-f3a514eaf946"
      },
      "source": [
        "U, Sigma, Vt = svd(a)\n",
        "print(U.shape, Sigma.shape, Vt.shape)\n",
        "print('U matrix:\\n', np.round(U, 3))\n",
        "print('Sigma Value:\\n', np.round(Sigma, 3))\n",
        "print('Vt Value:\\n', np.round(Vt, 3))"
      ],
      "execution_count": null,
      "outputs": [
        {
          "output_type": "stream",
          "text": [
            "(4, 4) (4,) (4, 4)\n",
            "U matrix:\n",
            " [[-0.079 -0.318  0.867  0.376]\n",
            " [ 0.383  0.787  0.12   0.469]\n",
            " [ 0.656  0.022  0.357 -0.664]\n",
            " [ 0.645 -0.529 -0.328  0.444]]\n",
            "Sigma Value:\n",
            " [3.423 2.023 0.463 0.079]\n",
            "Vt Value:\n",
            " [[ 0.041  0.224  0.786 -0.574]\n",
            " [-0.2    0.562  0.37   0.712]\n",
            " [-0.778  0.395 -0.333 -0.357]\n",
            " [-0.593 -0.692  0.366  0.189]]\n"
          ],
          "name": "stdout"
        }
      ]
    },
    {
      "cell_type": "code",
      "metadata": {
        "id": "N_T0AYADE475",
        "colab_type": "code",
        "colab": {
          "base_uri": "https://localhost:8080/",
          "height": 85
        },
        "outputId": "4bea441f-2e50-4a98-d254-e432723265b8"
      },
      "source": [
        "# Sigma를 다시 0을 포함한 대칭행렬로 변환\n",
        "Sigma_mat = np.diag(Sigma)\n",
        "a_ = np.dot(np.dot(U, Sigma_mat), Vt)\n",
        "print(np.round(a_, 3))"
      ],
      "execution_count": null,
      "outputs": [
        {
          "output_type": "stream",
          "text": [
            "[[-0.212 -0.285 -0.574 -0.44 ]\n",
            " [-0.33   1.184  1.615  0.367]\n",
            " [-0.014  0.63   1.71  -1.327]\n",
            " [ 0.402 -0.191  1.404 -1.969]]\n"
          ],
          "name": "stdout"
        }
      ]
    },
    {
      "cell_type": "code",
      "metadata": {
        "id": "yRstckY2FIYx",
        "colab_type": "code",
        "colab": {
          "base_uri": "https://localhost:8080/",
          "height": 85
        },
        "outputId": "09d8ea77-1b91-48f5-8337-954f1edd652a"
      },
      "source": [
        "a[2] = a[0] + a[1]\n",
        "a[3] = a[0]\n",
        "print(np.round(a, 3))"
      ],
      "execution_count": null,
      "outputs": [
        {
          "output_type": "stream",
          "text": [
            "[[-0.212 -0.285 -0.574 -0.44 ]\n",
            " [-0.33   1.184  1.615  0.367]\n",
            " [-0.542  0.899  1.041 -0.073]\n",
            " [-0.212 -0.285 -0.574 -0.44 ]]\n"
          ],
          "name": "stdout"
        }
      ]
    },
    {
      "cell_type": "code",
      "metadata": {
        "id": "jEMc4cImFP64",
        "colab_type": "code",
        "colab": {
          "base_uri": "https://localhost:8080/",
          "height": 68
        },
        "outputId": "40d7d65c-e72d-491c-a26a-004fb783c24f"
      },
      "source": [
        "# 다시 SVD를 수행해서 Sigma 값 확인 \n",
        "U, Sigma, Vt = svd(a)\n",
        "print(U.shape, Sigma.shape, Vt.shape)\n",
        "print('Sigma Value:\\n', np.round(Sigma, 3))"
      ],
      "execution_count": null,
      "outputs": [
        {
          "output_type": "stream",
          "text": [
            "(4, 4) (4,) (4, 4)\n",
            "Sigma Value:\n",
            " [2.663 0.807 0.    0.   ]\n"
          ],
          "name": "stdout"
        }
      ]
    },
    {
      "cell_type": "code",
      "metadata": {
        "id": "Cwx29f0FFpOZ",
        "colab_type": "code",
        "colab": {
          "base_uri": "https://localhost:8080/",
          "height": 102
        },
        "outputId": "74b61732-6edb-4cbb-9a0a-a4725b07f5b6"
      },
      "source": [
        "# U 행렬의 경우는 Sigma와 내적을 수행하므로 Sigma의 앞 2행에 대응되는 앞 2열만 추출\n",
        "U_ = U[:,:2]\n",
        "Sigma_ = np.diag(Sigma[:2])\n",
        "# V 전치 행렬의 경우는 앞 2행만 추출\n",
        "Vt_ = Vt[:2]\n",
        "print(U_.shape, Sigma_.shape, Vt_.shape)\n",
        "# U, Sigma, Vt의 내적을 수행하며, 다시 원본 행렬 복원\n",
        "a_ = np.dot(np.dot(U_, Sigma_), Vt_)\n",
        "print(np.round(a_, 3))"
      ],
      "execution_count": null,
      "outputs": [
        {
          "output_type": "stream",
          "text": [
            "(4, 2) (2, 2) (2, 4)\n",
            "[[-0.212 -0.285 -0.574 -0.44 ]\n",
            " [-0.33   1.184  1.615  0.367]\n",
            " [-0.542  0.899  1.041 -0.073]\n",
            " [-0.212 -0.285 -0.574 -0.44 ]]\n"
          ],
          "name": "stdout"
        }
      ]
    },
    {
      "cell_type": "code",
      "metadata": {
        "id": "SWfkjAgdGUFR",
        "colab_type": "code",
        "colab": {
          "base_uri": "https://localhost:8080/",
          "height": 408
        },
        "outputId": "2108f6c2-101c-49ed-9e03-9ecd090aea94"
      },
      "source": [
        "import numpy as np\n",
        "from scipy.sparse.linalg import svds\n",
        "from scipy.linalg import svd\n",
        "\n",
        "# 원본 행렬을 출력하고 SVD를 적용할 경우 U, Sigma, Vt의 차원 확인\n",
        "np.random.seed(121)\n",
        "matrix = np.random.random((6,6))\n",
        "print('원본 행렬:\\n', matrix)\n",
        "U, Sigma, Vt = svd(matrix, full_matrices=False)\n",
        "print('\\n분해 행렬 차원:', U.shape, Sigma.shape, Vt.shape)\n",
        "print('\\nSigma값 행렬:', Sigma)\n",
        "\n",
        "# Truncated SVDfh Sigma 행렬의 특이값을 4개로 하여 Truncated SVD 수행.\n",
        "num_components = 4\n",
        "U_tr, Sigma_tr, Vt_tr = svds(matrix, k=num_components)\n",
        "print('\\nTruncated SVD 분해 행렬 차원:', U_tr.shape, Sigma_tr.shape, Vt_tr.shape)\n",
        "print('\\nTruncated SVD Sigma값 행렬:', Sigma_tr)\n",
        "matrix_tr = np.dot(np.dot(U_tr, np.diag(Sigma_tr)), Vt_tr)\n",
        "\n",
        "print('\\nTruncated SVD로 분해 후 복원 행렬:\\n', matrix_tr)"
      ],
      "execution_count": null,
      "outputs": [
        {
          "output_type": "stream",
          "text": [
            "원본 행렬:\n",
            " [[0.11133083 0.21076757 0.23296249 0.15194456 0.83017814 0.40791941]\n",
            " [0.5557906  0.74552394 0.24849976 0.9686594  0.95268418 0.48984885]\n",
            " [0.01829731 0.85760612 0.40493829 0.62247394 0.29537149 0.92958852]\n",
            " [0.4056155  0.56730065 0.24575605 0.22573721 0.03827786 0.58098021]\n",
            " [0.82925331 0.77326256 0.94693849 0.73632338 0.67328275 0.74517176]\n",
            " [0.51161442 0.46920965 0.6439515  0.82081228 0.14548493 0.01806415]]\n",
            "\n",
            "분해 행렬 차원: (6, 6) (6,) (6, 6)\n",
            "\n",
            "Sigma값 행렬: [3.2535007  0.88116505 0.83865238 0.55463089 0.35834824 0.0349925 ]\n",
            "\n",
            "Truncated SVD 분해 행렬 차원: (6, 4) (4,) (4, 6)\n",
            "\n",
            "Truncated SVD Sigma값 행렬: [0.55463089 0.83865238 0.88116505 3.2535007 ]\n",
            "\n",
            "Truncated SVD로 분해 후 복원 행렬:\n",
            " [[0.19222941 0.21792946 0.15951023 0.14084013 0.81641405 0.42533093]\n",
            " [0.44874275 0.72204422 0.34594106 0.99148577 0.96866325 0.4754868 ]\n",
            " [0.12656662 0.88860729 0.30625735 0.59517439 0.28036734 0.93961948]\n",
            " [0.23989012 0.51026588 0.39697353 0.27308905 0.05971563 0.57156395]\n",
            " [0.83806144 0.78847467 0.93868685 0.72673231 0.6740867  0.73812389]\n",
            " [0.59726589 0.47953891 0.56613544 0.80746028 0.13135039 0.03479656]]\n"
          ],
          "name": "stdout"
        }
      ]
    },
    {
      "cell_type": "code",
      "metadata": {
        "id": "UKbq3gChc1aA",
        "colab_type": "code",
        "colab": {}
      },
      "source": [
        ""
      ],
      "execution_count": null,
      "outputs": []
    }
  ]
}