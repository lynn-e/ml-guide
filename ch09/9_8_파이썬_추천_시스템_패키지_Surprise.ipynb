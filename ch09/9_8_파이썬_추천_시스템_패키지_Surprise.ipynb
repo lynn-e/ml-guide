{
  "nbformat": 4,
  "nbformat_minor": 0,
  "metadata": {
    "colab": {
      "name": "9.8 파이썬 추천 시스템 패키지 - Surprise.ipynb",
      "provenance": [],
      "authorship_tag": "ABX9TyMWhHX/SS+Ya5FjRfZr9gME",
      "include_colab_link": true
    },
    "kernelspec": {
      "name": "python3",
      "display_name": "Python 3"
    }
  },
  "cells": [
    {
      "cell_type": "markdown",
      "metadata": {
        "id": "view-in-github",
        "colab_type": "text"
      },
      "source": [
        "<a href=\"https://colab.research.google.com/github/lynn-e/ml-guide/blob/master/ch09/9_8_%ED%8C%8C%EC%9D%B4%EC%8D%AC_%EC%B6%94%EC%B2%9C_%EC%8B%9C%EC%8A%A4%ED%85%9C_%ED%8C%A8%ED%82%A4%EC%A7%80_Surprise.ipynb\" target=\"_parent\"><img src=\"https://colab.research.google.com/assets/colab-badge.svg\" alt=\"Open In Colab\"/></a>"
      ]
    },
    {
      "cell_type": "code",
      "metadata": {
        "id": "R_MwLTizcjDP",
        "colab_type": "code",
        "colab": {
          "base_uri": "https://localhost:8080/",
          "height": 309
        },
        "outputId": "25eed311-6170-4a27-8cfe-477ae0b0143b"
      },
      "source": [
        "! pip install surprise"
      ],
      "execution_count": null,
      "outputs": [
        {
          "output_type": "stream",
          "text": [
            "Collecting surprise\n",
            "  Downloading https://files.pythonhosted.org/packages/61/de/e5cba8682201fcf9c3719a6fdda95693468ed061945493dea2dd37c5618b/surprise-0.1-py2.py3-none-any.whl\n",
            "Collecting scikit-surprise\n",
            "\u001b[?25l  Downloading https://files.pythonhosted.org/packages/f5/da/b5700d96495fb4f092be497f02492768a3d96a3f4fa2ae7dea46d4081cfa/scikit-surprise-1.1.0.tar.gz (6.4MB)\n",
            "\u001b[K     |████████████████████████████████| 6.5MB 2.7MB/s \n",
            "\u001b[?25hRequirement already satisfied: joblib>=0.11 in /usr/local/lib/python3.6/dist-packages (from scikit-surprise->surprise) (0.15.1)\n",
            "Requirement already satisfied: numpy>=1.11.2 in /usr/local/lib/python3.6/dist-packages (from scikit-surprise->surprise) (1.18.5)\n",
            "Requirement already satisfied: scipy>=1.0.0 in /usr/local/lib/python3.6/dist-packages (from scikit-surprise->surprise) (1.4.1)\n",
            "Requirement already satisfied: six>=1.10.0 in /usr/local/lib/python3.6/dist-packages (from scikit-surprise->surprise) (1.12.0)\n",
            "Building wheels for collected packages: scikit-surprise\n",
            "  Building wheel for scikit-surprise (setup.py) ... \u001b[?25l\u001b[?25hdone\n",
            "  Created wheel for scikit-surprise: filename=scikit_surprise-1.1.0-cp36-cp36m-linux_x86_64.whl size=1675743 sha256=4658c89c549a6e633742bbfb7a9633cd38e92f041e9eea975a4da522e61419e5\n",
            "  Stored in directory: /root/.cache/pip/wheels/cc/fa/8c/16c93fccce688ae1bde7d979ff102f7bee980d9cfeb8641bcf\n",
            "Successfully built scikit-surprise\n",
            "Installing collected packages: scikit-surprise, surprise\n",
            "Successfully installed scikit-surprise-1.1.0 surprise-0.1\n"
          ],
          "name": "stdout"
        }
      ]
    },
    {
      "cell_type": "code",
      "metadata": {
        "id": "45hGnMGscVYS",
        "colab_type": "code",
        "colab": {
          "base_uri": "https://localhost:8080/",
          "height": 34
        },
        "outputId": "862b5af8-56df-477b-9177-4c81f3ee61d2"
      },
      "source": [
        "import surprise\n",
        "\n",
        "print(surprise.__version__)"
      ],
      "execution_count": null,
      "outputs": [
        {
          "output_type": "stream",
          "text": [
            "1.1.0\n"
          ],
          "name": "stdout"
        }
      ]
    },
    {
      "cell_type": "markdown",
      "metadata": {
        "id": "uB6VrQw_dmOK",
        "colab_type": "text"
      },
      "source": [
        "### Surprise를 이용한 추천 시스템 구축"
      ]
    },
    {
      "cell_type": "code",
      "metadata": {
        "id": "AypwpnXecZnF",
        "colab_type": "code",
        "colab": {}
      },
      "source": [
        "from surprise import SVD\n",
        "from surprise import Dataset\n",
        "from surprise import accuracy\n",
        "from surprise.model_selection import train_test_split"
      ],
      "execution_count": null,
      "outputs": []
    },
    {
      "cell_type": "code",
      "metadata": {
        "id": "0WIdl2-Ac0on",
        "colab_type": "code",
        "colab": {
          "base_uri": "https://localhost:8080/",
          "height": 68
        },
        "outputId": "00ee07c4-555d-4d3f-ac06-188ed1bbb9ff"
      },
      "source": [
        "data = Dataset.load_builtin('ml-100k')\n",
        "trainset, testset = train_test_split(data, test_size=.25, random_state=0)"
      ],
      "execution_count": null,
      "outputs": [
        {
          "output_type": "stream",
          "text": [
            "Dataset ml-100k could not be found. Do you want to download it? [Y/n] \n",
            "Trying to download dataset from http://files.grouplens.org/datasets/movielens/ml-100k.zip...\n",
            "Done! Dataset ml-100k has been saved to /root/.surprise_data/ml-100k\n"
          ],
          "name": "stdout"
        }
      ]
    },
    {
      "cell_type": "code",
      "metadata": {
        "id": "-fjG-w_sdGCO",
        "colab_type": "code",
        "colab": {
          "base_uri": "https://localhost:8080/",
          "height": 34
        },
        "outputId": "e0e57367-3219-4664-eb2c-9d65b5e6a133"
      },
      "source": [
        "algo = SVD()\n",
        "algo.fit(trainset)"
      ],
      "execution_count": null,
      "outputs": [
        {
          "output_type": "execute_result",
          "data": {
            "text/plain": [
              "<surprise.prediction_algorithms.matrix_factorization.SVD at 0x7f32e5b655c0>"
            ]
          },
          "metadata": {
            "tags": []
          },
          "execution_count": 7
        }
      ]
    },
    {
      "cell_type": "code",
      "metadata": {
        "id": "Wpym2pBYdUHl",
        "colab_type": "code",
        "colab": {
          "base_uri": "https://localhost:8080/",
          "height": 136
        },
        "outputId": "028c2e35-96d5-4615-e9e8-44d186568337"
      },
      "source": [
        "predictions = algo.test( testset )\n",
        "print('prediction type :',type(predictions), ' size:',len(predictions))\n",
        "print('prediction 결과의 최초 5개 추출')\n",
        "predictions[:5]"
      ],
      "execution_count": null,
      "outputs": [
        {
          "output_type": "stream",
          "text": [
            "prediction type : <class 'list'>  size: 25000\n",
            "prediction 결과의 최초 5개 추출\n"
          ],
          "name": "stdout"
        },
        {
          "output_type": "execute_result",
          "data": {
            "text/plain": [
              "[Prediction(uid='120', iid='282', r_ui=4.0, est=3.31287014243118, details={'was_impossible': False}),\n",
              " Prediction(uid='882', iid='291', r_ui=4.0, est=3.7870793111066496, details={'was_impossible': False}),\n",
              " Prediction(uid='535', iid='507', r_ui=5.0, est=3.8952757349713454, details={'was_impossible': False}),\n",
              " Prediction(uid='697', iid='244', r_ui=5.0, est=3.613100757380748, details={'was_impossible': False}),\n",
              " Prediction(uid='751', iid='385', r_ui=4.0, est=3.3424063126966943, details={'was_impossible': False})]"
            ]
          },
          "metadata": {
            "tags": []
          },
          "execution_count": 8
        }
      ]
    },
    {
      "cell_type": "code",
      "metadata": {
        "id": "3cTnoneqdW-d",
        "colab_type": "code",
        "colab": {
          "base_uri": "https://localhost:8080/",
          "height": 68
        },
        "outputId": "b162451b-e9c5-48a2-c710-5a89dacb2698"
      },
      "source": [
        "[ (pred.uid, pred.iid, pred.est) for pred in predictions[:3] ]"
      ],
      "execution_count": null,
      "outputs": [
        {
          "output_type": "execute_result",
          "data": {
            "text/plain": [
              "[('120', '282', 3.31287014243118),\n",
              " ('882', '291', 3.7870793111066496),\n",
              " ('535', '507', 3.8952757349713454)]"
            ]
          },
          "metadata": {
            "tags": []
          },
          "execution_count": 9
        }
      ]
    },
    {
      "cell_type": "code",
      "metadata": {
        "id": "_YCGesUjdaAO",
        "colab_type": "code",
        "colab": {
          "base_uri": "https://localhost:8080/",
          "height": 34
        },
        "outputId": "dccc4fab-02ea-4fc9-a68e-5cafc2b46475"
      },
      "source": [
        "# 사용자 아이디, 아이템 아이디는 문자열로 입력해야 함. \n",
        "uid = str(196)\n",
        "iid = str(302)\n",
        "pred = algo.predict(uid, iid)\n",
        "print(pred)"
      ],
      "execution_count": null,
      "outputs": [
        {
          "output_type": "stream",
          "text": [
            "user: 196        item: 302        r_ui = None   est = 4.16   {'was_impossible': False}\n"
          ],
          "name": "stdout"
        }
      ]
    },
    {
      "cell_type": "code",
      "metadata": {
        "id": "t91Pgnn7ddNW",
        "colab_type": "code",
        "colab": {
          "base_uri": "https://localhost:8080/",
          "height": 51
        },
        "outputId": "ab2c3c70-2d8e-4b12-855a-904c9cca699d"
      },
      "source": [
        "accuracy.rmse(predictions)"
      ],
      "execution_count": null,
      "outputs": [
        {
          "output_type": "stream",
          "text": [
            "RMSE: 0.9510\n"
          ],
          "name": "stdout"
        },
        {
          "output_type": "execute_result",
          "data": {
            "text/plain": [
              "0.9510479354271372"
            ]
          },
          "metadata": {
            "tags": []
          },
          "execution_count": 11
        }
      ]
    },
    {
      "cell_type": "markdown",
      "metadata": {
        "id": "SBvyQt4edoq9",
        "colab_type": "text"
      },
      "source": [
        "### Surprise 주요 모듈 소개"
      ]
    },
    {
      "cell_type": "code",
      "metadata": {
        "id": "6MheOgdEdhak",
        "colab_type": "code",
        "colab": {
          "base_uri": "https://localhost:8080/",
          "height": 34
        },
        "outputId": "b4d63d64-2c12-49b4-ca3f-a283d9892c37"
      },
      "source": [
        "import pandas as pd\n",
        "import numpy as np\n",
        "\n",
        "import warnings; \n",
        "warnings.filterwarnings('ignore')\n",
        "\n",
        "from google.colab import drive\n",
        "drive.mount('/content/gdrive')"
      ],
      "execution_count": null,
      "outputs": [
        {
          "output_type": "stream",
          "text": [
            "Drive already mounted at /content/gdrive; to attempt to forcibly remount, call drive.mount(\"/content/gdrive\", force_remount=True).\n"
          ],
          "name": "stdout"
        }
      ]
    },
    {
      "cell_type": "code",
      "metadata": {
        "id": "7uU0Bh9WeL59",
        "colab_type": "code",
        "colab": {}
      },
      "source": [
        "from surprise import Reader\n",
        "\n",
        "reader = Reader(line_format='user item rating timestamp', sep=',', rating_scale=(0.5, 5))\n",
        "data = Dataset.load_from_file('/content/gdrive/My Drive/notebook/ml-guide/data/ratings_noh.csv', reader=reader)"
      ],
      "execution_count": null,
      "outputs": []
    },
    {
      "cell_type": "code",
      "metadata": {
        "id": "-26Zb2bO7Bsa",
        "colab_type": "code",
        "colab": {
          "base_uri": "https://localhost:8080/",
          "height": 51
        },
        "outputId": "eaec2540-4055-4d92-848a-386d79ecf1fc"
      },
      "source": [
        " trainset, testset = train_test_split(data, test_size=.25, random_state=0)\n",
        "\n",
        " # 수행 시마다 동일한 결과를 도출하기 위해 random_state 설정\n",
        " algo = SVD(n_factors=50, random_state=0)\n",
        "\n",
        " # 학습 데이터 세트로 학습하고 나서 테스트 데이터 세트로 평점 예측 후 RMSE 평가\n",
        " algo.fit(trainset)\n",
        " predictions = algo.test(testset)\n",
        " accuracy.rmse(predictions)"
      ],
      "execution_count": null,
      "outputs": [
        {
          "output_type": "stream",
          "text": [
            "RMSE: 0.8682\n"
          ],
          "name": "stdout"
        },
        {
          "output_type": "execute_result",
          "data": {
            "text/plain": [
              "0.8681952927143516"
            ]
          },
          "metadata": {
            "tags": []
          },
          "execution_count": 15
        }
      ]
    },
    {
      "cell_type": "markdown",
      "metadata": {
        "id": "iBV7Vpi08uNK",
        "colab_type": "text"
      },
      "source": [
        "### 판다스 Dataframe에서 Surprise 데이터 세트로 로딩"
      ]
    },
    {
      "cell_type": "code",
      "metadata": {
        "id": "57If1GCC8XLj",
        "colab_type": "code",
        "colab": {
          "base_uri": "https://localhost:8080/",
          "height": 51
        },
        "outputId": "3698c63c-58bf-436d-f20d-5037bf590b2c"
      },
      "source": [
        "import pandas as pd\n",
        "from surprise import Reader, Dataset\n",
        "\n",
        "\n",
        "ratings = pd.read_csv('/content/gdrive/My Drive/notebook/ml-guide/data/ratings.csv')\n",
        "reader = Reader(rating_scale=(0.5, 5.0))\n",
        "\n",
        "data = Dataset.load_from_df(ratings[['userId', 'movieId', 'rating']], reader)\n",
        "trainset, testset = train_test_split(data, test_size=.25, random_state=0)\n",
        "\n",
        "algo = SVD(n_factors=50, random_state=0)\n",
        "algo.fit(trainset)\n",
        "predictions = algo.test(testset)\n",
        "accuracy.rmse(predictions)\n"
      ],
      "execution_count": null,
      "outputs": [
        {
          "output_type": "stream",
          "text": [
            "RMSE: 0.8682\n"
          ],
          "name": "stdout"
        },
        {
          "output_type": "execute_result",
          "data": {
            "text/plain": [
              "0.8681952927143516"
            ]
          },
          "metadata": {
            "tags": []
          },
          "execution_count": 16
        }
      ]
    },
    {
      "cell_type": "markdown",
      "metadata": {
        "id": "8fWHIldL-R5q",
        "colab_type": "text"
      },
      "source": [
        "### 교차 검증과 하이퍼 파라미터 튜닝"
      ]
    },
    {
      "cell_type": "code",
      "metadata": {
        "id": "SrJ9A2cG91jC",
        "colab_type": "code",
        "colab": {
          "base_uri": "https://localhost:8080/",
          "height": 340
        },
        "outputId": "ec57dc34-8e25-402a-a5b2-f4d3d5d037b3"
      },
      "source": [
        "from surprise.model_selection import cross_validate\n",
        "\n",
        "ratings = pd.read_csv('/content/gdrive/My Drive/notebook/ml-guide/data/ratings.csv')\n",
        "reader = Reader(rating_scale=(0.5, 5.0))\n",
        "data = Dataset.load_from_df(ratings[['userId', 'movieId', 'rating']], reader)\n",
        "\n",
        "\n",
        "algo = SVD(n_factors=50, random_state=0)\n",
        "cross_validate(algo, data, measures=['RMSE', 'MAE'], cv=5, verbose=True)"
      ],
      "execution_count": null,
      "outputs": [
        {
          "output_type": "stream",
          "text": [
            "Evaluating RMSE, MAE of algorithm SVD on 5 split(s).\n",
            "\n",
            "                  Fold 1  Fold 2  Fold 3  Fold 4  Fold 5  Mean    Std     \n",
            "RMSE (testset)    0.8692  0.8758  0.8567  0.8724  0.8720  0.8692  0.0066  \n",
            "MAE (testset)     0.6695  0.6723  0.6608  0.6692  0.6697  0.6683  0.0039  \n",
            "Fit time          3.47    3.44    3.49    3.44    3.47    3.46    0.02    \n",
            "Test time         0.15    0.15    0.30    0.15    0.30    0.21    0.07    \n"
          ],
          "name": "stdout"
        },
        {
          "output_type": "execute_result",
          "data": {
            "text/plain": [
              "{'fit_time': (3.4706411361694336,\n",
              "  3.4399361610412598,\n",
              "  3.491745948791504,\n",
              "  3.437457799911499,\n",
              "  3.4743692874908447),\n",
              " 'test_mae': array([0.66951988, 0.67226949, 0.66082468, 0.66922065, 0.66973693]),\n",
              " 'test_rmse': array([0.86921469, 0.87576137, 0.85666284, 0.87243289, 0.87199476]),\n",
              " 'test_time': (0.14833641052246094,\n",
              "  0.1495974063873291,\n",
              "  0.2997415065765381,\n",
              "  0.15413808822631836,\n",
              "  0.30237793922424316)}"
            ]
          },
          "metadata": {
            "tags": []
          },
          "execution_count": 17
        }
      ]
    },
    {
      "cell_type": "code",
      "metadata": {
        "id": "pxvidhE3-j16",
        "colab_type": "code",
        "colab": {
          "base_uri": "https://localhost:8080/",
          "height": 51
        },
        "outputId": "0597ba0d-3d04-4979-e87b-1a67939e2841"
      },
      "source": [
        "from surprise.model_selection import GridSearchCV\n",
        "\n",
        "# 최적화할 파라미터를 딕셔너리 형태로 지정.\n",
        "param_grid = {'n_epochs': [20, 40, 60], 'n_factors': [50, 100, 200]}\n",
        "\n",
        "# CV를 3개 폴드 세트로 지정, 성능 평가는 rmse, mse로 수행하도록 GridSearchCV 구성\n",
        "gs = GridSearchCV(SVD, param_grid, measures=['rmse', 'mae'], cv=3)\n",
        "gs.fit(data)\n",
        "\n",
        "# 최고 RMSE Evaluation 점수와 그때의 하이퍼 파라미터\n",
        "print(gs.best_score['rmse'])\n",
        "print(gs.best_params['rmse'])"
      ],
      "execution_count": null,
      "outputs": [
        {
          "output_type": "stream",
          "text": [
            "0.8775549652214565\n",
            "{'n_epochs': 20, 'n_factors': 50}\n"
          ],
          "name": "stdout"
        }
      ]
    },
    {
      "cell_type": "markdown",
      "metadata": {
        "id": "dSe_VWVc_c78",
        "colab_type": "text"
      },
      "source": [
        "### Surprise를 이용한 개인화 영화 추천 시스템 구축"
      ]
    },
    {
      "cell_type": "code",
      "metadata": {
        "id": "J8AEnArK_LgK",
        "colab_type": "code",
        "colab": {}
      },
      "source": [
        "from surprise.dataset import DatasetAutoFolds\n",
        "\n",
        "reader = Reader(line_format='user item rating timestamp', sep=',', rating_scale=(0.5, 5))\n",
        "data_folds = DatasetAutoFolds(ratings_file='/content/gdrive/My Drive/notebook/ml-guide/data/ratings_noh.csv', reader=reader)\n",
        "\n",
        "trainset = data_folds.build_full_trainset()"
      ],
      "execution_count": null,
      "outputs": []
    },
    {
      "cell_type": "code",
      "metadata": {
        "id": "eONntImwAu1i",
        "colab_type": "code",
        "colab": {
          "base_uri": "https://localhost:8080/",
          "height": 68
        },
        "outputId": "b7534b63-4bb1-4f6e-c959-239d8900f0a4"
      },
      "source": [
        "movies = pd.read_csv('/content/gdrive/My Drive/notebook/ml-guide/data/movies.csv')\n",
        "movieIds = ratings[ratings['userId'] == 9]['movieId']\n",
        "\n",
        "if movieIds[movieIds==42].count() == 0:\n",
        "  print('사용자 아이디 9는 영화 아이디 42의 평점 없음')\n",
        "\n",
        "print(movies[movies['movieId'] == 42])  "
      ],
      "execution_count": null,
      "outputs": [
        {
          "output_type": "stream",
          "text": [
            "사용자 아이디 9는 영화 아이디 42의 평점 없음\n",
            "    movieId                   title              genres\n",
            "38       42  Dead Presidents (1995)  Action|Crime|Drama\n"
          ],
          "name": "stdout"
        }
      ]
    },
    {
      "cell_type": "code",
      "metadata": {
        "id": "Ehyaxur9A8uY",
        "colab_type": "code",
        "colab": {
          "base_uri": "https://localhost:8080/",
          "height": 34
        },
        "outputId": "5cfc25ac-5fcc-4786-ddeb-14eeb427f091"
      },
      "source": [
        "uid = str(9)\n",
        "iid = str(42)\n",
        "\n",
        "pred = algo.predict(uid, iid, verbose=True)"
      ],
      "execution_count": null,
      "outputs": [
        {
          "output_type": "stream",
          "text": [
            "user: 9          item: 42         r_ui = None   est = 3.50   {'was_impossible': False}\n"
          ],
          "name": "stdout"
        }
      ]
    },
    {
      "cell_type": "code",
      "metadata": {
        "id": "FGr4hZ_SBPKI",
        "colab_type": "code",
        "colab": {
          "base_uri": "https://localhost:8080/",
          "height": 34
        },
        "outputId": "4d97d84b-266b-4240-ceb6-fc325842f479"
      },
      "source": [
        "def get_unseen_surprise(ratings, movies, userId):\n",
        "  seen_movies = ratings[ratings['userId'] == userId]['movieId'].tolist()\n",
        "\n",
        "  total_movies = movies['movieId'].tolist()\n",
        "\n",
        "  unseen_movies = [movie for movie in total_movies if movie not in seen_movies]\n",
        "  print('평점 매긴 영화 수:', len(seen_movies), '추천 대상 영화 수:', len(unseen_movies), '전체 영화 수:', len(total_movies))\n",
        "\n",
        "  return unseen_movies\n",
        "\n",
        "unseen_movies = get_unseen_surprise(ratings, movies, 9)"
      ],
      "execution_count": null,
      "outputs": [
        {
          "output_type": "stream",
          "text": [
            "평점 매긴 영화 수: 46 추천 대상 영화 수: 9696 전체 영화 수: 9742\n"
          ],
          "name": "stdout"
        }
      ]
    },
    {
      "cell_type": "code",
      "metadata": {
        "id": "8Xa7UK_xB5mO",
        "colab_type": "code",
        "colab": {
          "base_uri": "https://localhost:8080/",
          "height": 221
        },
        "outputId": "f759bc9f-b13d-4271-e34d-858bc7cc4e7d"
      },
      "source": [
        "def recomm_movie_by_surpirse(algo, userId, unseen_movies, top_n=10):\n",
        "  # 알고리즘 객체의 predict() 메서드를 평점이 없는 영화에 반복 수행한 후 결과를 list 객체로 저장\n",
        "  predictions = [algo.predict(str(userId), str(movieId)) for movieId in unseen_movies]\n",
        "\n",
        "  # predictions list 객체는 surprise의 Predictions 객체를 원소로 가지고 있음\n",
        "  # [Prediction(uid='9', iid='1', est=3.69), Predictions(uid='9', iid='2', est=2.98),,,,]\n",
        "  # 이를 est 값으로 정렬하기 위해서 아래의 sortkey_est 함수를 정의함.\n",
        "  # sortkey_est 함수는 list 객체의 sort() 함수의 키 값으로 사용되어 정렬 수행.\n",
        "  def sortkey_est(pred):\n",
        "    return pred.est\n",
        "\n",
        "  # sortkey_est() 반환값의 내림 차순으로 정렬 수행하고 top_n개의 최상위 값 추출.\n",
        "  predictions.sort(key=sortkey_est, reverse=True)\n",
        "  top_predictions = predictions[:top_n]\n",
        "\n",
        "  # top_n으로 추출된 영화의 정보 추출. 영화 아이디, 추천 예상 평점, 제목 추출\n",
        "  top_movie_ids = [ int(pred.iid) for pred in top_predictions ]\n",
        "  top_movie_rating = [ pred.est for pred in top_predictions ]\n",
        "  top_movie_titles = movies[movies.movieId.isin(top_movie_ids)]['title']\n",
        "\n",
        "  top_movie_preds = [ (id, title, rating) for id, title, rating in zip(top_movie_ids, top_movie_titles, top_movie_rating)]\n",
        "\n",
        "  return top_movie_preds\n",
        "\n",
        "unseen_movies = get_unseen_surprise(ratings, movies, 9)\n",
        "top_movie_preds = recomm_movie_by_surpirse(algo, 9, unseen_movies, top_n=10)\n",
        "\n",
        "print(' ##### TOP 10 추천 영화 리스트 ##### ')\n",
        "for top_movie in top_movie_preds:\n",
        "  print(top_movie[1], \":\", top_movie[2])\n"
      ],
      "execution_count": null,
      "outputs": [
        {
          "output_type": "stream",
          "text": [
            "평점 매긴 영화 수: 46 추천 대상 영화 수: 9696 전체 영화 수: 9742\n",
            " ##### TOP 10 추천 영화 리스트 ##### \n",
            "Toy Story (1995) : 3.503353208791481\n",
            "Jumanji (1995) : 3.503353208791481\n",
            "Grumpier Old Men (1995) : 3.503353208791481\n",
            "Waiting to Exhale (1995) : 3.503353208791481\n",
            "Father of the Bride Part II (1995) : 3.503353208791481\n",
            "Heat (1995) : 3.503353208791481\n",
            "Sabrina (1995) : 3.503353208791481\n",
            "Tom and Huck (1995) : 3.503353208791481\n",
            "Sudden Death (1995) : 3.503353208791481\n",
            "GoldenEye (1995) : 3.503353208791481\n"
          ],
          "name": "stdout"
        }
      ]
    },
    {
      "cell_type": "code",
      "metadata": {
        "id": "4DGyw9qQEhhl",
        "colab_type": "code",
        "colab": {}
      },
      "source": [
        ""
      ],
      "execution_count": null,
      "outputs": []
    }
  ]
}