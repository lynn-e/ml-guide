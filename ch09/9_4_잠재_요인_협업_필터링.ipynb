{
  "nbformat": 4,
  "nbformat_minor": 0,
  "metadata": {
    "colab": {
      "name": "9.4 잠재 요인 협업 필터링.ipynb",
      "provenance": [],
      "collapsed_sections": [],
      "authorship_tag": "ABX9TyN/o1agM2JT7+cHBaXjPV0K",
      "include_colab_link": true
    },
    "kernelspec": {
      "name": "python3",
      "display_name": "Python 3"
    }
  },
  "cells": [
    {
      "cell_type": "markdown",
      "metadata": {
        "id": "view-in-github",
        "colab_type": "text"
      },
      "source": [
        "<a href=\"https://colab.research.google.com/github/lynn-e/ml-guide/blob/master/ch09/9_4_%EC%9E%A0%EC%9E%AC_%EC%9A%94%EC%9D%B8_%ED%98%91%EC%97%85_%ED%95%84%ED%84%B0%EB%A7%81.ipynb\" target=\"_parent\"><img src=\"https://colab.research.google.com/assets/colab-badge.svg\" alt=\"Open In Colab\"/></a>"
      ]
    },
    {
      "cell_type": "code",
      "metadata": {
        "id": "QY9U44GKJaZ9",
        "colab_type": "code",
        "colab": {}
      },
      "source": [
        "import numpy as np\n",
        "\n",
        "# 원본 행렬 R 생성, 분해 행렬 P와 Q 초기화, 잠재 요인 차원 K는 3으로 설정\n",
        "R = np.array([[4, np.NaN, np.NaN, 2, np.NaN],\n",
        "             [np.NaN, 5, np.NaN, 3, 1],\n",
        "             [np.NaN, np.NaN, 3, 4, 4],\n",
        "             [5, 2, 1, 2, np.NaN]])\n",
        "num_users, num_items = R.shape\n",
        "K = 3\n",
        "\n",
        "# P와 Q 행렬의 크기를 지정하고 정규 분포를 가진 임의의 값으로 입력합니다.\n",
        "np.random.seed(1)\n",
        "P = np.random.normal(scale=1./K, size=(num_users, K))\n",
        "Q = np.random.normal(scale=1./K, size=(num_items, K))"
      ],
      "execution_count": null,
      "outputs": []
    },
    {
      "cell_type": "code",
      "metadata": {
        "id": "eseXZfmGKroK",
        "colab_type": "code",
        "colab": {
          "base_uri": "https://localhost:8080/",
          "height": 85
        },
        "outputId": "9f44fbe2-45d0-4deb-b904-1d0405f3e0cc"
      },
      "source": [
        "P"
      ],
      "execution_count": null,
      "outputs": [
        {
          "output_type": "execute_result",
          "data": {
            "text/plain": [
              "array([[ 0.54144845, -0.2039188 , -0.17605725],\n",
              "       [-0.35765621,  0.28846921, -0.76717957],\n",
              "       [ 0.58160392, -0.25373563,  0.10634637],\n",
              "       [-0.08312346,  0.48736931, -0.68671357]])"
            ]
          },
          "metadata": {
            "tags": []
          },
          "execution_count": 4
        }
      ]
    },
    {
      "cell_type": "code",
      "metadata": {
        "id": "2A3tDo21K3nx",
        "colab_type": "code",
        "colab": {
          "base_uri": "https://localhost:8080/",
          "height": 102
        },
        "outputId": "5a284dca-991f-42fc-92f5-fc8567435290"
      },
      "source": [
        "Q"
      ],
      "execution_count": null,
      "outputs": [
        {
          "output_type": "execute_result",
          "data": {
            "text/plain": [
              "array([[-0.1074724 , -0.12801812,  0.37792315],\n",
              "       [-0.36663042, -0.05747607, -0.29261947],\n",
              "       [ 0.01407125,  0.19427174, -0.36687306],\n",
              "       [ 0.38157457,  0.30053024,  0.16749811],\n",
              "       [ 0.30028532, -0.22790929, -0.04096341]])"
            ]
          },
          "metadata": {
            "tags": []
          },
          "execution_count": 5
        }
      ]
    },
    {
      "cell_type": "code",
      "metadata": {
        "id": "LjA0ZmRtK4Uh",
        "colab_type": "code",
        "colab": {}
      },
      "source": [
        "from sklearn.metrics import mean_squared_error\n",
        "\n",
        "def get_rmse(R, P, Q, non_zeros):\n",
        "  error = 0\n",
        "  # 두 개의 분해된 행렬 P와 Q.T의 내적으로 예측 R 행렬 생성\n",
        "  full_pred_matrix = np.dot(P, Q.T)\n",
        "\n",
        "  # 실제 R 행렬에서 널이 아닌 값의 위치 인덱스 추출해 실제 R 행렬과 예측 행렬의 RMSE 추출\n",
        "  x_non_zero_ind = [non_zero[0] for non_zero in non_zeros]\n",
        "  y_non_zero_ind = [non_zero[1] for non_zero in non_zeros]\n",
        "  R_non_zeros = R[x_non_zero_ind, y_non_zero_ind]\n",
        "  full_pred_matrix_non_zeros = full_pred_matrix[x_non_zero_ind, y_non_zero_ind]\n",
        "  mse = mean_squared_error(R_non_zeros, full_pred_matrix_non_zeros)\n",
        "  rmse = np.sqrt(mse)\n",
        "\n",
        "  return rmse"
      ],
      "execution_count": null,
      "outputs": []
    },
    {
      "cell_type": "code",
      "metadata": {
        "id": "TVLSottPL8lD",
        "colab_type": "code",
        "colab": {
          "base_uri": "https://localhost:8080/",
          "height": 357
        },
        "outputId": "835384ff-2da3-48af-adf9-4018bf4565d2"
      },
      "source": [
        "# R > 0인 행 위치, 열 위치, 값을 non_zeros 리스트에 저장\n",
        "non_zeros = [ (i, j, R[i,j]) for i in range(num_users) for j in range(num_items) if R[i, j] > 0]\n",
        "\n",
        "steps = 1000\n",
        "learning_rate = 0.01\n",
        "r_lambda = 0.01\n",
        "\n",
        "# SGD 기법으로 P와 Q매트릭스를 계속 업데이트.\n",
        "for step in range(steps):\n",
        "  for i, j, r in non_zeros:\n",
        "    # 실제 값과 예측 값의 차이인 오류 값 구함\n",
        "    eij = r - np.dot(P[i, :], Q[j, :].T)\n",
        "    # Regularization을 반영한 SGD 업데이트 공식 적용\n",
        "    P[i, :] = P[i, :] + learning_rate*(eij * Q[j, :] - r_lambda * P[i, :])\n",
        "    Q[j, :] = Q[j, :] + learning_rate*(eij * P[i, :] - r_lambda * Q[j, :])\n",
        "\n",
        "  rmse = get_rmse(R, P, Q, non_zeros)\n",
        "  if (step % 50) == 0:\n",
        "    print(\"### iteration step: \", step, \" rmse : \", rmse)"
      ],
      "execution_count": null,
      "outputs": [
        {
          "output_type": "stream",
          "text": [
            "### iteration step:  0  rmse :  3.2142352850266604\n",
            "### iteration step:  50  rmse :  0.47024902717741013\n",
            "### iteration step:  100  rmse :  0.1537653593665877\n",
            "### iteration step:  150  rmse :  0.07361687046634234\n",
            "### iteration step:  200  rmse :  0.04285442272403338\n",
            "### iteration step:  250  rmse :  0.029061788829838075\n",
            "### iteration step:  300  rmse :  0.022532672673135228\n",
            "### iteration step:  350  rmse :  0.019452104360723456\n",
            "### iteration step:  400  rmse :  0.018003062614111675\n",
            "### iteration step:  450  rmse :  0.017310145612781328\n",
            "### iteration step:  500  rmse :  0.016968868634676785\n",
            "### iteration step:  550  rmse :  0.016794291226021853\n",
            "### iteration step:  600  rmse :  0.016699905579444087\n",
            "### iteration step:  650  rmse :  0.01664383442476264\n",
            "### iteration step:  700  rmse :  0.016605230293015916\n",
            "### iteration step:  750  rmse :  0.016573596669387042\n",
            "### iteration step:  800  rmse :  0.016543716472882303\n",
            "### iteration step:  850  rmse :  0.016513124797747223\n",
            "### iteration step:  900  rmse :  0.016480799675904736\n",
            "### iteration step:  950  rmse :  0.0164464655550874\n"
          ],
          "name": "stdout"
        }
      ]
    },
    {
      "cell_type": "code",
      "metadata": {
        "id": "fHExgiRCNkL7",
        "colab_type": "code",
        "colab": {
          "base_uri": "https://localhost:8080/",
          "height": 102
        },
        "outputId": "0b9d5153-63b7-4e59-dcb2-5ce491e128ee"
      },
      "source": [
        "pred_matrix = np.dot(P, Q.T)\n",
        "print('예측 행렬:\\n', np.round(pred_matrix, 3))"
      ],
      "execution_count": null,
      "outputs": [
        {
          "output_type": "stream",
          "text": [
            "예측 행렬:\n",
            " [[3.991 0.897 1.306 2.002 1.663]\n",
            " [6.695 4.978 0.978 2.981 1.003]\n",
            " [6.677 0.391 2.987 3.977 3.986]\n",
            " [4.968 2.005 1.006 2.017 1.141]]\n"
          ],
          "name": "stdout"
        }
      ]
    },
    {
      "cell_type": "code",
      "metadata": {
        "id": "ozhvMfgaN4VH",
        "colab_type": "code",
        "colab": {}
      },
      "source": [
        ""
      ],
      "execution_count": null,
      "outputs": []
    }
  ]
}