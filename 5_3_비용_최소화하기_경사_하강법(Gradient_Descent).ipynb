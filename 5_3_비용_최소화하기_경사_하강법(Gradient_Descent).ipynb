{
  "nbformat": 4,
  "nbformat_minor": 0,
  "metadata": {
    "colab": {
      "name": "5.3 비용 최소화하기 - 경사 하강법(Gradient Descent).ipynb",
      "provenance": [],
      "toc_visible": true,
      "authorship_tag": "ABX9TyN/wDoQXBJJrYQ2wVcmzRlR",
      "include_colab_link": true
    },
    "kernelspec": {
      "name": "python3",
      "display_name": "Python 3"
    }
  },
  "cells": [
    {
      "cell_type": "markdown",
      "metadata": {
        "id": "view-in-github",
        "colab_type": "text"
      },
      "source": [
        "<a href=\"https://colab.research.google.com/github/lynn-e/ml-guide/blob/master/5_3_%EB%B9%84%EC%9A%A9_%EC%B5%9C%EC%86%8C%ED%99%94%ED%95%98%EA%B8%B0_%EA%B2%BD%EC%82%AC_%ED%95%98%EA%B0%95%EB%B2%95(Gradient_Descent).ipynb\" target=\"_parent\"><img src=\"https://colab.research.google.com/assets/colab-badge.svg\" alt=\"Open In Colab\"/></a>"
      ]
    },
    {
      "cell_type": "markdown",
      "metadata": {
        "id": "tCeR-KW6wqEw",
        "colab_type": "text"
      },
      "source": [
        "# 5.3 Gradient Descent"
      ]
    },
    {
      "cell_type": "markdown",
      "metadata": {
        "id": "MAzHGPk3wug-",
        "colab_type": "text"
      },
      "source": [
        "### 실제값을 Y=4X+6 시뮬레이션하는 데이터 값 생성"
      ]
    },
    {
      "cell_type": "code",
      "metadata": {
        "id": "CVpLNUyvy4ht",
        "colab_type": "code",
        "colab": {
          "base_uri": "https://localhost:8080/",
          "height": 282
        },
        "outputId": "54b8ab05-25cc-4603-f176-cf80019b3bbd"
      },
      "source": [
        "import numpy as np\n",
        "import matplotlib.pyplot as plt\n",
        "%matplotlib inline\n",
        "\n",
        "np.random.seed(0)\n",
        "# y = 4x+6을 근사(w1=4, w0=6). 임의의 값은 노이즈를 위해 만듦.\n",
        "X = 2 * np.random.rand(100, 1)\n",
        "y = 6 + 4 * X + np.random.rand(100, 1)\n",
        "\n",
        "# x, y 데이터 세트 산점도로 시각화\n",
        "plt.scatter(X, y)"
      ],
      "execution_count": null,
      "outputs": [
        {
          "output_type": "execute_result",
          "data": {
            "text/plain": [
              "<matplotlib.collections.PathCollection at 0x7f08a2869470>"
            ]
          },
          "metadata": {
            "tags": []
          },
          "execution_count": 1
        },
        {
          "output_type": "display_data",
          "data": {
            "image/png": "[encoded data removed]",
            "text/plain": [
              "<Figure size 432x288 with 1 Axes>"
            ]
          },
          "metadata": {
            "tags": [],
            "needs_background": "light"
          }
        }
      ]
    },
    {
      "cell_type": "code",
      "metadata": {
        "id": "uP1AIdcXw6Ne",
        "colab_type": "code",
        "colab": {
          "base_uri": "https://localhost:8080/",
          "height": 34
        },
        "outputId": "881b695b-8259-4dce-d71e-49bfc57c05ff"
      },
      "source": [
        "X.shape, y.shape"
      ],
      "execution_count": null,
      "outputs": [
        {
          "output_type": "execute_result",
          "data": {
            "text/plain": [
              "((100, 1), (100, 1))"
            ]
          },
          "metadata": {
            "tags": []
          },
          "execution_count": 2
        }
      ]
    },
    {
      "cell_type": "markdown",
      "metadata": {
        "id": "T6cKn4IbxCz2",
        "colab_type": "text"
      },
      "source": [
        "### w0과 w1의 값을 최소화할 수 있도록 업데이트 수행하는 함수 생성"
      ]
    },
    {
      "cell_type": "code",
      "metadata": {
        "id": "f1QSQKBV1g0_",
        "colab_type": "code",
        "colab": {}
      },
      "source": [
        "# w1과 w0을 업데이트할 w1_update, w0_update를 반환\n",
        "def get_weight_updates(w1, w0, X, y, learning_rate=0.01):\n",
        "  N = len(y)\n",
        "  # w1_update, w0_update를 각각 w1, w0의 shape과 동일한 크기를 가진 0 값으로 초기화\n",
        "  w1_update = np.zeros_like(w1)\n",
        "  w0_update = np.zeros_like(w0)\n",
        "  # 예측 배열 계산하고 예측과 실제 값의 차이 계산\n",
        "  y_pred = np.dot(X, w1.T) + w0\n",
        "  diff = y-y_pred\n",
        "\n",
        "  # w0_update를 dot 행렬 연산으로 구하기 위해 모두 1값을 가진 행렬 생성\n",
        "  w0_factors = np.ones((N, 1))\n",
        "  \n",
        "  # w1과 w0을 업데이트할 w1_update와 w0_update 계산\n",
        "  w1_update = -(2/N)*learning_rate*(np.dot(X.T, diff))\n",
        "  w0_update = -(2/N)*learning_rate*(np.dot(w0_factors.T, diff))\n",
        "  \n",
        "  return w1_update, w0_update"
      ],
      "execution_count": null,
      "outputs": []
    },
    {
      "cell_type": "code",
      "metadata": {
        "id": "8koWqTAA6rmX",
        "colab_type": "code",
        "colab": {}
      },
      "source": [
        "# 입력 인자 iters로 주어진 횟수만큼 반복적으로 w1과 w0을 업데이트 적용함.\n",
        "def gradient_descent_steps(X, y, iters=10000):\n",
        "  # w0와 w1을 모두 0으로 초기화.\n",
        "  w0 = np.zeros((1, 1))\n",
        "  w1 = np.zeros((1, 1))\n",
        "  \n",
        "  # 인자로 주어진 iters 만큼 반복적으로 get_wegith_updates() 호출해 w1, w0 업데이트 수행.\n",
        "  for ind in range(iters):\n",
        "    w1_update, w0_update = get_weight_updates(w1, w0, X, y, learning_rate=0.01)\n",
        "    w1 = w1 - w1_update\n",
        "    w0 = w0 - w0_update\n",
        "\n",
        "  return w1, w0"
      ],
      "execution_count": null,
      "outputs": []
    },
    {
      "cell_type": "markdown",
      "metadata": {
        "id": "gGkY85CBxS15",
        "colab_type": "text"
      },
      "source": [
        "### 예측 오차 비용 계산을 수행하는 함수 생성 및 경사 하강법 수행"
      ]
    },
    {
      "cell_type": "code",
      "metadata": {
        "id": "_7ZPd2hL7Iyr",
        "colab_type": "code",
        "colab": {
          "base_uri": "https://localhost:8080/",
          "height": 51
        },
        "outputId": "e1d1fcb9-4483-4373-fb27-db1cdcd43f94"
      },
      "source": [
        "def get_cost(y, y_pred):\n",
        "  N = len(y)\n",
        "  cost = np.sum(np.square(y - y_pred)) / N\n",
        "  return cost\n",
        "\n",
        "w1, w0 = gradient_descent_steps(X, y, iters=1000)\n",
        "print(\"w1: {0:.3f} w0: {1:.3f}\".format(w1[0, 0], w0[0, 0]))\n",
        "y_pred = w1[0, 0] * X + w0\n",
        "print('Gradient Descent Total Cost: {0:.4f}'.format(get_cost(y, y_pred)))"
      ],
      "execution_count": null,
      "outputs": [
        {
          "output_type": "stream",
          "text": [
            "w1: 4.028 w0: 6.490\n",
            "Gradient Descent Total Cost: 0.0775\n"
          ],
          "name": "stdout"
        }
      ]
    },
    {
      "cell_type": "code",
      "metadata": {
        "id": "dxm0fpnj7pf5",
        "colab_type": "code",
        "colab": {
          "base_uri": "https://localhost:8080/",
          "height": 282
        },
        "outputId": "061f74e8-e535-4f6a-e681-ea774b639b98"
      },
      "source": [
        "plt.scatter(X, y)\n",
        "plt.plot(X, y_pred)"
      ],
      "execution_count": null,
      "outputs": [
        {
          "output_type": "execute_result",
          "data": {
            "text/plain": [
              "[<matplotlib.lines.Line2D at 0x7f089ffe4860>]"
            ]
          },
          "metadata": {
            "tags": []
          },
          "execution_count": 6
        },
        {
          "output_type": "display_data",
          "data": {
            "image/png": "[encoded data removed]",
            "text/plain": [
              "<Figure size 432x288 with 1 Axes>"
            ]
          },
          "metadata": {
            "tags": [],
            "needs_background": "light"
          }
        }
      ]
    },
    {
      "cell_type": "markdown",
      "metadata": {
        "id": "s9s8-ici852t",
        "colab_type": "text"
      },
      "source": [
        "### 미니 배치 확률적 경사 하강법을 이용한 최적 비용함수 도출"
      ]
    },
    {
      "cell_type": "code",
      "metadata": {
        "id": "Bd_tpzKU75uH",
        "colab_type": "code",
        "colab": {}
      },
      "source": [
        "def stochastic_gradient_descent_steps(X, y, batch_size=10, iters=1000):\n",
        "  w0 = np.zeros((1, 1))\n",
        "  w1 = np.zeros((1, 1))\n",
        "  prev_cost = 100000\n",
        "  iter_index = 0\n",
        "\n",
        "  for ind in range(iters):\n",
        "    np.random.seed(ind)\n",
        "    # 전체 X, y 데이터에서 랜덤하게 batch_size만큼 데이터를 추출해 sample_X, sample_y로 저장\n",
        "    stochastic_random_index = np.random.permutation(X.shape[0])\n",
        "    sample_X = X[stochastic_random_index[0:batch_size]]\n",
        "    sample_y = y[stochastic_random_index[0:batch_size]]\n",
        "    # 랜덤하게 batch_size만큼 추출된 데이터 기반으로 w1_update, w0_update 계산 후 업데이트\n",
        "    w1_update, w0_update = get_weight_updates(w1, w0, sample_X, sample_y, learning_rate=0.01)\n",
        "    w1 = w1 - w1_update\n",
        "    w0 = w0 - w0_update\n",
        "\n",
        "  return w1, w0"
      ],
      "execution_count": null,
      "outputs": []
    },
    {
      "cell_type": "code",
      "metadata": {
        "id": "dT19co568lrq",
        "colab_type": "code",
        "colab": {
          "base_uri": "https://localhost:8080/",
          "height": 51
        },
        "outputId": "b8a7482a-6460-4762-f8f0-36e0e1334124"
      },
      "source": [
        "w1, w0 = stochastic_gradient_descent_steps(X, y, iters=1000)\n",
        "print(\"w1: \", round(w1[0, 0], 3), \"w0: \", round(w0[0, 0], 3))\n",
        "y_pred = w1[0, 0] * X + w0\n",
        "print('stochastic Gradient Descent Total Cost:{0:.4f}'.format(get_cost(y, y_pred)))"
      ],
      "execution_count": null,
      "outputs": [
        {
          "output_type": "stream",
          "text": [
            "w1:  4.031 w0:  6.486\n",
            "stochastic Gradient Descent Total Cost:0.0777\n"
          ],
          "name": "stdout"
        }
      ]
    },
    {
      "cell_type": "code",
      "metadata": {
        "id": "FLvATiJa-EHy",
        "colab_type": "code",
        "colab": {}
      },
      "source": [
        ""
      ],
      "execution_count": null,
      "outputs": []
    }
  ]
}