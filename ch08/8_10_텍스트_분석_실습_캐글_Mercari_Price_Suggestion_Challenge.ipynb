{
  "nbformat": 4,
  "nbformat_minor": 0,
  "metadata": {
    "colab": {
      "name": "8.10 텍스트 분석 실습 - 캐글 Mercari Price Suggestion Challenge.ipynb",
      "provenance": [],
      "collapsed_sections": [],
      "authorship_tag": "ABX9TyNV6OGS89Y1TfGfqHd8VtLO",
      "include_colab_link": true
    },
    "kernelspec": {
      "name": "python3",
      "display_name": "Python 3"
    }
  },
  "cells": [
    {
      "cell_type": "markdown",
      "metadata": {
        "id": "view-in-github",
        "colab_type": "text"
      },
      "source": [
        "<a href=\"https://colab.research.google.com/github/lynn-e/ml-guide/blob/master/ch08/8_10_%ED%85%8D%EC%8A%A4%ED%8A%B8_%EB%B6%84%EC%84%9D_%EC%8B%A4%EC%8A%B5_%EC%BA%90%EA%B8%80_Mercari_Price_Suggestion_Challenge.ipynb\" target=\"_parent\"><img src=\"https://colab.research.google.com/assets/colab-badge.svg\" alt=\"Open In Colab\"/></a>"
      ]
    },
    {
      "cell_type": "code",
      "metadata": {
        "id": "n-6-XVO6PaNT",
        "colab_type": "code",
        "colab": {
          "base_uri": "https://localhost:8080/",
          "height": 122
        },
        "outputId": "15ce7136-e35e-424e-e506-db352a75a36b"
      },
      "source": [
        "from google.colab import drive\n",
        "drive.mount('/content/gdrive')"
      ],
      "execution_count": null,
      "outputs": [
        {
          "output_type": "stream",
          "text": [
            "Go to this URL in a browser: https://accounts.google.com/o/oauth2/auth?client_id=947318989803-6bn6qk8qdgf4n4g3pfee6491hc0brc4i.apps.googleusercontent.com&redirect_uri=urn%3aietf%3awg%3aoauth%3a2.0%3aoob&response_type=code&scope=email%20https%3a%2f%2fwww.googleapis.com%2fauth%2fdocs.test%20https%3a%2f%2fwww.googleapis.com%2fauth%2fdrive%20https%3a%2f%2fwww.googleapis.com%2fauth%2fdrive.photos.readonly%20https%3a%2f%2fwww.googleapis.com%2fauth%2fpeopleapi.readonly\n",
            "\n",
            "Enter your authorization code:\n",
            "··········\n",
            "Mounted at /content/gdrive\n"
          ],
          "name": "stdout"
        }
      ]
    },
    {
      "cell_type": "markdown",
      "metadata": {
        "id": "oqTPYf35SIH2",
        "colab_type": "text"
      },
      "source": [
        "### 데이터 전처리"
      ]
    },
    {
      "cell_type": "code",
      "metadata": {
        "id": "n8lrmgmwR_IL",
        "colab_type": "code",
        "colab": {
          "base_uri": "https://localhost:8080/",
          "height": 159
        },
        "outputId": "02f95edf-1cfc-4008-b8cd-dfa42a4d94b9"
      },
      "source": [
        "from sklearn.linear_model import Ridge, LogisticRegression\n",
        "from sklearn.model_selection import train_test_split, cross_val_score\n",
        "from sklearn.feature_extraction.text import CountVectorizer, TfidfVectorizer\n",
        "import pandas as pd\n",
        "\n",
        "mercari_df = pd.read_csv('/content/gdrive/My Drive/notebook/ml-guide/data/mercari_train.tsv', sep='\\t')\n",
        "print(mercari_df.shape)\n",
        "mercari_df.head(3)"
      ],
      "execution_count": null,
      "outputs": [
        {
          "output_type": "stream",
          "text": [
            "(1482535, 8)\n"
          ],
          "name": "stdout"
        },
        {
          "output_type": "execute_result",
          "data": {
            "text/html": [
              "<div>\n",
              "<style scoped>\n",
              "    .dataframe tbody tr th:only-of-type {\n",
              "        vertical-align: middle;\n",
              "    }\n",
              "\n",
              "    .dataframe tbody tr th {\n",
              "        vertical-align: top;\n",
              "    }\n",
              "\n",
              "    .dataframe thead th {\n",
              "        text-align: right;\n",
              "    }\n",
              "</style>\n",
              "<table border=\"1\" class=\"dataframe\">\n",
              "  <thead>\n",
              "    <tr style=\"text-align: right;\">\n",
              "      <th></th>\n",
              "      <th>train_id</th>\n",
              "      <th>name</th>\n",
              "      <th>item_condition_id</th>\n",
              "      <th>category_name</th>\n",
              "      <th>brand_name</th>\n",
              "      <th>price</th>\n",
              "      <th>shipping</th>\n",
              "      <th>item_description</th>\n",
              "    </tr>\n",
              "  </thead>\n",
              "  <tbody>\n",
              "    <tr>\n",
              "      <th>0</th>\n",
              "      <td>0</td>\n",
              "      <td>MLB Cincinnati Reds T Shirt Size XL</td>\n",
              "      <td>3</td>\n",
              "      <td>Men/Tops/T-shirts</td>\n",
              "      <td>NaN</td>\n",
              "      <td>10.0</td>\n",
              "      <td>1</td>\n",
              "      <td>No description yet</td>\n",
              "    </tr>\n",
              "    <tr>\n",
              "      <th>1</th>\n",
              "      <td>1</td>\n",
              "      <td>Razer BlackWidow Chroma Keyboard</td>\n",
              "      <td>3</td>\n",
              "      <td>Electronics/Computers &amp; Tablets/Components &amp; P...</td>\n",
              "      <td>Razer</td>\n",
              "      <td>52.0</td>\n",
              "      <td>0</td>\n",
              "      <td>This keyboard is in great condition and works ...</td>\n",
              "    </tr>\n",
              "    <tr>\n",
              "      <th>2</th>\n",
              "      <td>2</td>\n",
              "      <td>AVA-VIV Blouse</td>\n",
              "      <td>1</td>\n",
              "      <td>Women/Tops &amp; Blouses/Blouse</td>\n",
              "      <td>Target</td>\n",
              "      <td>10.0</td>\n",
              "      <td>1</td>\n",
              "      <td>Adorable top with a hint of lace and a key hol...</td>\n",
              "    </tr>\n",
              "  </tbody>\n",
              "</table>\n",
              "</div>"
            ],
            "text/plain": [
              "   train_id  ...                                   item_description\n",
              "0         0  ...                                 No description yet\n",
              "1         1  ...  This keyboard is in great condition and works ...\n",
              "2         2  ...  Adorable top with a hint of lace and a key hol...\n",
              "\n",
              "[3 rows x 8 columns]"
            ]
          },
          "metadata": {
            "tags": []
          },
          "execution_count": 3
        }
      ]
    },
    {
      "cell_type": "code",
      "metadata": {
        "id": "WN8-6_Z2Sqo_",
        "colab_type": "code",
        "colab": {
          "base_uri": "https://localhost:8080/",
          "height": 289
        },
        "outputId": "0b2b028d-a6d7-4e1b-87d0-75544545f5ed"
      },
      "source": [
        "print(mercari_df.info())"
      ],
      "execution_count": null,
      "outputs": [
        {
          "output_type": "stream",
          "text": [
            "<class 'pandas.core.frame.DataFrame'>\n",
            "RangeIndex: 1482535 entries, 0 to 1482534\n",
            "Data columns (total 8 columns):\n",
            " #   Column             Non-Null Count    Dtype  \n",
            "---  ------             --------------    -----  \n",
            " 0   train_id           1482535 non-null  int64  \n",
            " 1   name               1482535 non-null  object \n",
            " 2   item_condition_id  1482535 non-null  int64  \n",
            " 3   category_name      1476208 non-null  object \n",
            " 4   brand_name         849853 non-null   object \n",
            " 5   price              1482535 non-null  float64\n",
            " 6   shipping           1482535 non-null  int64  \n",
            " 7   item_description   1482531 non-null  object \n",
            "dtypes: float64(1), int64(3), object(4)\n",
            "memory usage: 90.5+ MB\n",
            "None\n"
          ],
          "name": "stdout"
        }
      ]
    },
    {
      "cell_type": "code",
      "metadata": {
        "id": "l7L8YV8uTn7s",
        "colab_type": "code",
        "colab": {
          "base_uri": "https://localhost:8080/",
          "height": 341
        },
        "outputId": "8ae3a09c-ccd0-493a-f3a3-e5ef42f74f26"
      },
      "source": [
        "import matplotlib.pyplot as plt\n",
        "import seaborn as sns\n",
        "%matplotlib inline\n",
        "\n",
        "y_train_df = mercari_df['price']\n",
        "plt.figure(figsize=(6,4))\n",
        "sns.distplot(y_train_df, kde=False)"
      ],
      "execution_count": null,
      "outputs": [
        {
          "output_type": "stream",
          "text": [
            "/usr/local/lib/python3.6/dist-packages/statsmodels/tools/_testing.py:19: FutureWarning: pandas.util.testing is deprecated. Use the functions in the public API at pandas.testing instead.\n",
            "  import pandas.util.testing as tm\n"
          ],
          "name": "stderr"
        },
        {
          "output_type": "execute_result",
          "data": {
            "text/plain": [
              "<matplotlib.axes._subplots.AxesSubplot at 0x7f4680e594e0>"
            ]
          },
          "metadata": {
            "tags": []
          },
          "execution_count": 5
        },
        {
          "output_type": "display_data",
          "data": {
            "image/png": "[encoded data removed]",
            "text/plain": [
              "<Figure size 432x288 with 1 Axes>"
            ]
          },
          "metadata": {
            "tags": [],
            "needs_background": "light"
          }
        }
      ]
    },
    {
      "cell_type": "code",
      "metadata": {
        "id": "5TUZF8COT7jz",
        "colab_type": "code",
        "colab": {
          "base_uri": "https://localhost:8080/",
          "height": 296
        },
        "outputId": "3d923422-50a1-486f-a77a-dfd3f76f70f1"
      },
      "source": [
        "# 정규화 - log\n",
        "import numpy as np\n",
        "\n",
        "y_train_df = np.log1p(y_train_df)\n",
        "sns.distplot(y_train_df, kde=False)"
      ],
      "execution_count": null,
      "outputs": [
        {
          "output_type": "execute_result",
          "data": {
            "text/plain": [
              "<matplotlib.axes._subplots.AxesSubplot at 0x7f4680e59668>"
            ]
          },
          "metadata": {
            "tags": []
          },
          "execution_count": 6
        },
        {
          "output_type": "display_data",
          "data": {
            "image/png": "[encoded data removed]",
            "text/plain": [
              "<Figure size 432x288 with 1 Axes>"
            ]
          },
          "metadata": {
            "tags": [],
            "needs_background": "light"
          }
        }
      ]
    },
    {
      "cell_type": "code",
      "metadata": {
        "id": "iNfjXzuSUIV7",
        "colab_type": "code",
        "colab": {
          "base_uri": "https://localhost:8080/",
          "height": 85
        },
        "outputId": "81f40e69-a9e7-4232-bc46-9812bbbfc4df"
      },
      "source": [
        "mercari_df['price'] = np.log1p(mercari_df['price'])\n",
        "mercari_df['price'].head(3)"
      ],
      "execution_count": null,
      "outputs": [
        {
          "output_type": "execute_result",
          "data": {
            "text/plain": [
              "0    2.397895\n",
              "1    3.970292\n",
              "2    2.397895\n",
              "Name: price, dtype: float64"
            ]
          },
          "metadata": {
            "tags": []
          },
          "execution_count": 7
        }
      ]
    },
    {
      "cell_type": "code",
      "metadata": {
        "id": "twq_H7o8UOyj",
        "colab_type": "code",
        "colab": {
          "base_uri": "https://localhost:8080/",
          "height": 204
        },
        "outputId": "716f4294-aac8-4d4e-a8cb-cdced7a54a09"
      },
      "source": [
        "# shipping / item_condition_id \n",
        "\n",
        "print('Shipping 값 유형:\\n', mercari_df['shipping'].value_counts())\n",
        "print('item_condition_id 값 유형:\\n', mercari_df['item_condition_id'].value_counts())"
      ],
      "execution_count": null,
      "outputs": [
        {
          "output_type": "stream",
          "text": [
            "Shipping 값 유형:\n",
            " 0    819435\n",
            "1    663100\n",
            "Name: shipping, dtype: int64\n",
            "item_condition_id 값 유형:\n",
            " 1    640549\n",
            "3    432161\n",
            "2    375479\n",
            "4     31962\n",
            "5      2384\n",
            "Name: item_condition_id, dtype: int64\n"
          ],
          "name": "stdout"
        }
      ]
    },
    {
      "cell_type": "code",
      "metadata": {
        "id": "Pot4IdebUecK",
        "colab_type": "code",
        "colab": {
          "base_uri": "https://localhost:8080/",
          "height": 34
        },
        "outputId": "a7556cad-9031-4a17-b302-0306fd3c4396"
      },
      "source": [
        "# item_description\n",
        "boolean_cond = mercari_df['item_description']=='No description yet'\n",
        "mercari_df[boolean_cond]['item_description'].count()"
      ],
      "execution_count": null,
      "outputs": [
        {
          "output_type": "execute_result",
          "data": {
            "text/plain": [
              "82489"
            ]
          },
          "metadata": {
            "tags": []
          },
          "execution_count": 9
        }
      ]
    },
    {
      "cell_type": "code",
      "metadata": {
        "id": "1pGGgCqXUs6D",
        "colab_type": "code",
        "colab": {
          "base_uri": "https://localhost:8080/",
          "height": 306
        },
        "outputId": "4ebb4712-a536-41e8-cd69-7ccfcbdcc1df"
      },
      "source": [
        "# category 분류 (대/중/소)\n",
        "\n",
        "# apply lambda에서 호출되는 대, 중, 소 분할 함수 생성, 대, 중, 소 값을 리스트로 반환\n",
        "def split_cat(category_name):\n",
        "  try:\n",
        "    return category_name.split('/')\n",
        "  except:\n",
        "    return ['Other_Null', 'Other_Null', 'Other Null']\n",
        "\n",
        "# split_cat()을 apply lambda로 호출해 대, 중, 소 칼럼을 mercari_df에 생성\n",
        "mercari_df['cat_dae'], mercari_df['cat_jung'], mercari_df['cat_so'] = zip(*mercari_df['category_name'].apply(lambda x : split_cat(x)))\n",
        "\n",
        "# 대분류만 값의 유형과 건수를 살펴보고, 중분류, 소분류는 값의 유형이 많으므로 분류 개수만 추출\n",
        "print('대분류 유형:\\n', mercari_df['cat_dae'].value_counts())\n",
        "print('중분류 개수:\\n', mercari_df['cat_jung'].nunique())\n",
        "print('소분류 개수:\\n', mercari_df['cat_so'].nunique())\n"
      ],
      "execution_count": null,
      "outputs": [
        {
          "output_type": "stream",
          "text": [
            "대분류 유형:\n",
            " Women                     664385\n",
            "Beauty                    207828\n",
            "Kids                      171689\n",
            "Electronics               122690\n",
            "Men                        93680\n",
            "Home                       67871\n",
            "Vintage & Collectibles     46530\n",
            "Other                      45351\n",
            "Handmade                   30842\n",
            "Sports & Outdoors          25342\n",
            "Other_Null                  6327\n",
            "Name: cat_dae, dtype: int64\n",
            "중분류 개수:\n",
            " 114\n",
            "소분류 개수:\n",
            " 871\n"
          ],
          "name": "stdout"
        }
      ]
    },
    {
      "cell_type": "code",
      "metadata": {
        "id": "T746olUuV0B1",
        "colab_type": "code",
        "colab": {
          "base_uri": "https://localhost:8080/",
          "height": 221
        },
        "outputId": "0843c46e-ceb0-472b-9cba-b5eb8a7dedb8"
      },
      "source": [
        "# null handling\n",
        "mercari_df['brand_name'] = mercari_df['brand_name'].fillna(value='Other_Null')\n",
        "mercari_df['category_name'] = mercari_df['category_name'].fillna(value='Other_Null')\n",
        "mercari_df['item_description'] = mercari_df['item_description'].fillna(value='Other_Null')\n",
        "\n",
        "# null check\n",
        "mercari_df.isnull().sum()"
      ],
      "execution_count": null,
      "outputs": [
        {
          "output_type": "execute_result",
          "data": {
            "text/plain": [
              "train_id             0\n",
              "name                 0\n",
              "item_condition_id    0\n",
              "category_name        0\n",
              "brand_name           0\n",
              "price                0\n",
              "shipping             0\n",
              "item_description     0\n",
              "cat_dae              0\n",
              "cat_jung             0\n",
              "cat_so               0\n",
              "dtype: int64"
            ]
          },
          "metadata": {
            "tags": []
          },
          "execution_count": 11
        }
      ]
    },
    {
      "cell_type": "markdown",
      "metadata": {
        "id": "mmrWKwmqWili",
        "colab_type": "text"
      },
      "source": [
        "### 피처 인코딩과 피처 벡터화"
      ]
    },
    {
      "cell_type": "code",
      "metadata": {
        "id": "7tAQ0dufWgJB",
        "colab_type": "code",
        "colab": {
          "base_uri": "https://localhost:8080/",
          "height": 153
        },
        "outputId": "4abb006f-ba86-42fa-e2eb-f4464f4b9b72"
      },
      "source": [
        "print('brand name의 유형 건수 :', mercari_df['brand_name'].nunique())\n",
        "print('brand name sample 5건 : \\n', mercari_df['brand_name'].value_counts()[:5])"
      ],
      "execution_count": null,
      "outputs": [
        {
          "output_type": "stream",
          "text": [
            "brand name의 유형 건수 : 4810\n",
            "brand name sample 5건 : \n",
            " Other_Null           632682\n",
            "PINK                  54088\n",
            "Nike                  54043\n",
            "Victoria's Secret     48036\n",
            "LuLaRoe               31024\n",
            "Name: brand_name, dtype: int64\n"
          ],
          "name": "stdout"
        }
      ]
    },
    {
      "cell_type": "code",
      "metadata": {
        "id": "3HjbOSk4XFPI",
        "colab_type": "code",
        "colab": {
          "base_uri": "https://localhost:8080/",
          "height": 238
        },
        "outputId": "eb51beea-f35e-45cb-ba76-e267ee2755a5"
      },
      "source": [
        "print('name의 유형 건수 :', mercari_df['name'].nunique())\n",
        "print('name sample 10건 : \\n', mercari_df['name'].value_counts()[:10])"
      ],
      "execution_count": null,
      "outputs": [
        {
          "output_type": "stream",
          "text": [
            "name의 유형 건수 : 1225273\n",
            "name sample 10건 : \n",
            " Bundle                 2232\n",
            "Reserved                453\n",
            "Converse                445\n",
            "BUNDLE                  418\n",
            "Dress                   410\n",
            "Coach purse             404\n",
            "Lularoe TC leggings     396\n",
            "Romper                  353\n",
            "Nike                    340\n",
            "Vans                    334\n",
            "Name: name, dtype: int64\n"
          ],
          "name": "stdout"
        }
      ]
    },
    {
      "cell_type": "code",
      "metadata": {
        "id": "1UlcLfRgXNw4",
        "colab_type": "code",
        "colab": {
          "base_uri": "https://localhost:8080/",
          "height": 85
        },
        "outputId": "18f1ddde-2c87-4eb1-ca3d-733eed19612d"
      },
      "source": [
        "pd.set_option('max_colwidth', 200)\n",
        "\n",
        "# item_description의 평균 문자열 크기\n",
        "print('item_description 평균 문자열 크기:', mercari_df['item_description'].str.len().mean())\n",
        "\n",
        "mercari_df['item_description'][:2]"
      ],
      "execution_count": null,
      "outputs": [
        {
          "output_type": "stream",
          "text": [
            "item_description 평균 문자열 크기: 145.7113889385411\n"
          ],
          "name": "stdout"
        },
        {
          "output_type": "execute_result",
          "data": {
            "text/plain": [
              "0                                                                                                                                                                              No description yet\n",
              "1    This keyboard is in great condition and works like it came out of the box. All of the ports are tested and work perfectly. The lights are customizable via the Razer Synapse app on your PC.\n",
              "Name: item_description, dtype: object"
            ]
          },
          "metadata": {
            "tags": []
          },
          "execution_count": 14
        }
      ]
    },
    {
      "cell_type": "code",
      "metadata": {
        "id": "FuOTVnUiZH5n",
        "colab_type": "code",
        "colab": {
          "base_uri": "https://localhost:8080/",
          "height": 51
        },
        "outputId": "ed4fce41-6b9b-4d2b-bf14-daaaede5993d"
      },
      "source": [
        "# name 속성에 대한 피처 벡터화 변환\n",
        "cnt_vec = CountVectorizer()\n",
        "X_name = cnt_vec.fit_transform(mercari_df.name)\n",
        "\n",
        "# item_description에 대한 피처 벡터화 변환\n",
        "tfidf_descp = TfidfVectorizer(max_features= 50000, ngram_range=(1, 3), stop_words='english')\n",
        "X_descp = tfidf_descp.fit_transform(mercari_df['item_description'])\n",
        "\n",
        "print('name vectorization shape:', X_name.shape)\n",
        "print('item_description vectorization shape:', X_descp.shape)"
      ],
      "execution_count": null,
      "outputs": [
        {
          "output_type": "stream",
          "text": [
            "name vectorization shape: (1482535, 105757)\n",
            "item_description vectorization shape: (1482535, 50000)\n"
          ],
          "name": "stdout"
        }
      ]
    },
    {
      "cell_type": "code",
      "metadata": {
        "id": "REYRws4KLjJP",
        "colab_type": "code",
        "colab": {}
      },
      "source": [
        "# One-hot encoding\n",
        "from sklearn.preprocessing import LabelBinarizer\n",
        "\n",
        "# brand_name, item_condition_id, shipping 각 피처들을 희소 행렬 원-핫 인코딩 변환\n",
        "lb_brand_name = LabelBinarizer(sparse_output=True)\n",
        "X_brand = lb_brand_name.fit_transform(mercari_df['brand_name'])\n",
        "lb_item_cond_id = LabelBinarizer(sparse_output=True)\n",
        "X_item_cond_id = lb_item_cond_id.fit_transform(mercari_df['item_condition_id'])\n",
        "lb_shipping = LabelBinarizer(sparse_output=True)\n",
        "X_shipping = lb_shipping.fit_transform(mercari_df['shipping'])\n",
        "\n",
        "# cat_dae, cat_jung, cat_so 각 피처들을 희소 행렬 원-핫 인코딩 변환\n",
        "lb_cat_dae = LabelBinarizer(sparse_output=True)\n",
        "X_cat_dae = lb_cat_dae.fit_transform(mercari_df['cat_dae'])\n",
        "lb_cat_jung = LabelBinarizer(sparse_output=True)\n",
        "X_cat_jung = lb_cat_jung.fit_transform(mercari_df['cat_jung'])\n",
        "lb_cat_so = LabelBinarizer(sparse_output=True)\n",
        "X_cat_so = lb_cat_so.fit_transform(mercari_df['cat_so'])"
      ],
      "execution_count": null,
      "outputs": []
    },
    {
      "cell_type": "code",
      "metadata": {
        "id": "uc9gJhZyPlYQ",
        "colab_type": "code",
        "colab": {
          "base_uri": "https://localhost:8080/",
          "height": 85
        },
        "outputId": "b914ebc9-a582-433b-9807-484368ff2021"
      },
      "source": [
        "print(type(X_brand), type(X_item_cond_id), type(X_shipping))\n",
        "print('X_brand shape:{0}, X_item_cond_id shape:{1}'.format(X_brand.shape, X_item_cond_id.shape))\n",
        "print('X_shipping shape:{0}, X_cat_dae shape:{1}'.format(X_shipping.shape, X_cat_dae.shape))\n",
        "print('X_cat_jung shape:{0}, X_cat_so shape:{1}'.format(X_cat_jung.shape, X_cat_so.shape))"
      ],
      "execution_count": null,
      "outputs": [
        {
          "output_type": "stream",
          "text": [
            "<class 'scipy.sparse.csr.csr_matrix'> <class 'scipy.sparse.csr.csr_matrix'> <class 'scipy.sparse.csr.csr_matrix'>\n",
            "X_brand shape:(1482535, 4810), X_item_cond_id shape:(1482535, 5)\n",
            "X_shipping shape:(1482535, 1), X_cat_dae shape:(1482535, 11)\n",
            "X_cat_jung shape:(1482535, 114), X_cat_so shape:(1482535, 871)\n"
          ],
          "name": "stdout"
        }
      ]
    },
    {
      "cell_type": "code",
      "metadata": {
        "id": "RJ1jdIfbQJ9Q",
        "colab_type": "code",
        "colab": {
          "base_uri": "https://localhost:8080/",
          "height": 51
        },
        "outputId": "d9cf966e-1161-4dca-c57f-141e24a2e65b"
      },
      "source": [
        "from scipy.sparse import hstack\n",
        "import gc\n",
        "\n",
        "sparse_matrix_list = (X_name, X_descp, X_brand, X_item_cond_id, X_shipping, X_cat_dae, X_cat_jung, X_cat_so)\n",
        "\n",
        "# hstack 함수를 이용해 인코딩과 벡터화를 수행한 데이터 세트를 모두 결합.\n",
        "X_features_sparse = hstack(sparse_matrix_list).tocsr()\n",
        "print(type(X_features_sparse), X_features_sparse.shape)\n",
        "\n",
        "# 데이터 세트가 메모리를 많이 차지하므로 사용 목적이 끝났으면 바로 메모리에서 삭제.\n",
        "del X_features_sparse\n",
        "gc.collect()"
      ],
      "execution_count": null,
      "outputs": [
        {
          "output_type": "stream",
          "text": [
            "<class 'scipy.sparse.csr.csr_matrix'> (1482535, 161569)\n"
          ],
          "name": "stdout"
        },
        {
          "output_type": "execute_result",
          "data": {
            "text/plain": [
              "0"
            ]
          },
          "metadata": {
            "tags": []
          },
          "execution_count": 18
        }
      ]
    },
    {
      "cell_type": "markdown",
      "metadata": {
        "id": "sOoxnHBpQj_L",
        "colab_type": "text"
      },
      "source": [
        "### 릿지 회귀 모델 구축 및 평가"
      ]
    },
    {
      "cell_type": "code",
      "metadata": {
        "id": "fubJw6YtQi4X",
        "colab_type": "code",
        "colab": {}
      },
      "source": [
        "def rmsle(y, y_pred):\n",
        "  # underflow, overflow를 막기 위해 log가 아닌 log1p로 rmsle 계산\n",
        "  return np.sqrt(np.mean(np.power(np.log1p(y) - np.log1p(y_pred), 2)))\n",
        "\n",
        "def evaluate_org_price(y_test, preds):\n",
        "  # 원본 데이터는 log1p로 변환되었으므로 exmpm1로 원복 필요\n",
        "  preds_exmpm = np.expm1(preds)\n",
        "  y_test_exmpm = np.expm1(y_test)\n",
        "\n",
        "  # rmsle로 RMSLE 값 추출\n",
        "  rmsle_result = rmsle(y_test_exmpm, preds_exmpm)\n",
        "  return rmsle_result"
      ],
      "execution_count": null,
      "outputs": []
    },
    {
      "cell_type": "code",
      "metadata": {
        "id": "p0zK5mxdRNT4",
        "colab_type": "code",
        "colab": {}
      },
      "source": [
        "import gc\n",
        "from scipy.sparse import hstack\n",
        "\n",
        "def model_train_predict(model, matrix_list):\n",
        "  # scipy.sparse 모듈의 hstack을 이용해 희소 행렬 결합\n",
        "  X = hstack(matrix_list).tocsr()\n",
        "\n",
        "  X_train, X_test, y_train, y_test = train_test_split(X, mercari_df['price'], test_size=0.2, random_state=156)\n",
        "\n",
        "  # 모델 학습 및 예측\n",
        "  model.fit(X_train, y_train)\n",
        "  preds = model.predict(X_test)\n",
        "  \n",
        "  del X, X_train, X_test, y_train\n",
        "  gc.collect()\n",
        "\n",
        "  return preds, y_test"
      ],
      "execution_count": null,
      "outputs": []
    },
    {
      "cell_type": "code",
      "metadata": {
        "id": "augd0qt1Rnu4",
        "colab_type": "code",
        "colab": {
          "base_uri": "https://localhost:8080/",
          "height": 51
        },
        "outputId": "053ef0b3-e60d-4354-b6c6-c5e49b7da54a"
      },
      "source": [
        "linear_model = Ridge(solver='lsqr', fit_intercept=False)\n",
        "\n",
        "sparse_matrix_list = (X_name, X_brand, X_item_cond_id, X_shipping, X_cat_dae, X_cat_jung, X_cat_so)\n",
        "linear_preds, y_test = model_train_predict(model=linear_model, matrix_list=sparse_matrix_list)\n",
        "print('Item Description을 제외했을 때 rmsle 값:', evaluate_org_price(y_test, linear_preds))\n",
        "\n",
        "sparse_matrix_list = (X_descp, X_name, X_brand, X_item_cond_id, X_shipping, X_cat_dae, X_cat_jung, X_cat_so)\n",
        "linear_preds, y_test = model_train_predict(model=linear_model, matrix_list=sparse_matrix_list)\n",
        "print('Item Description을 포함한 rmsle 값:', evaluate_org_price(y_test, linear_preds))"
      ],
      "execution_count": null,
      "outputs": [
        {
          "output_type": "stream",
          "text": [
            "Item Description을 제외했을 때 rmsle 값: 0.5023727038010544\n",
            "Item Description을 포함한 rmsle 값: 0.4712195143433641\n"
          ],
          "name": "stdout"
        }
      ]
    },
    {
      "cell_type": "markdown",
      "metadata": {
        "id": "H5R-1uG3SeHN",
        "colab_type": "text"
      },
      "source": [
        "### LightBGM 회귀 모델 구축과 앙상블을 이용한 최종 예측 평가"
      ]
    },
    {
      "cell_type": "code",
      "metadata": {
        "id": "W3TolaieSc_J",
        "colab_type": "code",
        "colab": {
          "base_uri": "https://localhost:8080/",
          "height": 34
        },
        "outputId": "de56db35-b113-43cb-ea77-84c9edf55376"
      },
      "source": [
        "from lightgbm import LGBMRegressor\n",
        "\n",
        "sparse_matrix_list = (X_descp, X_name, X_brand, X_item_cond_id, X_shipping, X_cat_dae, X_cat_jung, X_cat_so)\n",
        "lgbm_model = LGBMRegressor(n_estimators=200, learning_rate=0.5, num_leaves=125, random_state=156)\n",
        "lgbm_preds, y_test = model_train_predict(model=lgbm_model, matrix_list=sparse_matrix_list)\n",
        "print('LightGBM rmsle 값:', evaluate_org_price(y_test, lgbm_preds))"
      ],
      "execution_count": null,
      "outputs": [
        {
          "output_type": "stream",
          "text": [
            "LightGBM rmsle 값: 0.45719580244261243\n"
          ],
          "name": "stdout"
        }
      ]
    },
    {
      "cell_type": "code",
      "metadata": {
        "id": "IKkpks1PTLpJ",
        "colab_type": "code",
        "colab": {
          "base_uri": "https://localhost:8080/",
          "height": 34
        },
        "outputId": "6a748781-c70f-43df-c0ae-178443522644"
      },
      "source": [
        "preds = lgbm_preds * 0.45 + linear_preds * 0.55\n",
        "print('LightGBM과 Ridge를 ensemble한 최종 rmsle 값:', evaluate_org_price(y_test, preds))"
      ],
      "execution_count": null,
      "outputs": [
        {
          "output_type": "stream",
          "text": [
            "LightGBM과 Ridge를 ensemble한 최종 rmsle 값: 0.4507259214329315\n"
          ],
          "name": "stdout"
        }
      ]
    },
    {
      "cell_type": "code",
      "metadata": {
        "id": "QiLvvvI5TZTw",
        "colab_type": "code",
        "colab": {}
      },
      "source": [
        ""
      ],
      "execution_count": null,
      "outputs": []
    }
  ]
}